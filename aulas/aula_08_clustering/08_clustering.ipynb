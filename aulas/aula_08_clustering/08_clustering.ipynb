{
 "cells": [
  {
   "cell_type": "code",
   "execution_count": 3,
   "metadata": {
    "executionInfo": {
     "elapsed": 6267,
     "status": "ok",
     "timestamp": 1746452307647,
     "user": {
      "displayName": "João Vitor Gomes",
      "userId": "05467674276511904604"
     },
     "user_tz": 0
    },
    "id": "Dr4QSZHNu9vL"
   },
   "outputs": [],
   "source": [
    "import pandas as pd\n",
    "import matplotlib.pyplot as plt\n",
    "import numpy as np\n",
    "import seaborn as sns\n",
    "from sklearn.pipeline import Pipeline, make_pipeline\n",
    "from sklearn.preprocessing import LabelEncoder"
   ]
  },
  {
   "cell_type": "markdown",
   "metadata": {
    "id": "ES8TDviVvAhk"
   },
   "source": [
    "# Entendimento do negócio"
   ]
  },
  {
   "cell_type": "markdown",
   "metadata": {
    "id": "YF1shrCQ6n9B"
   },
   "source": [
    "O _dataset_ utilizado ([doi.org/10.24432/C5R88H](https://doi.org/10.24432/C5R88H)) envolve a expressão de genes para diferentes tipos de cancer, em diferentes pacientes.\n",
    "\n",
    "O _dataset_ oferece rótulos, e cada item é classificado. Porém, para fins didáticos, será usado uma versão sem rótulos.\n",
    "Desta forma, o objetivo é agrupar estes pacientes de forma que cada tipo de cancer forme um grupo."
   ]
  },
  {
   "cell_type": "code",
   "execution_count": 5,
   "metadata": {
    "executionInfo": {
     "elapsed": 17,
     "status": "ok",
     "timestamp": 1746452561019,
     "user": {
      "displayName": "João Vitor Gomes",
      "userId": "05467674276511904604"
     },
     "user_tz": 0
    },
    "id": "z175VFsVaumq"
   },
   "outputs": [],
   "source": [
    "url = 'https://github.com/JCFDGG/LOB1266-PUB/raw/refs/heads/main/ExemplosAula/cluster/TCGA-PANCAN/data.csv'\n",
    "caminho = 'dados/data.csv'"
   ]
  },
  {
   "cell_type": "markdown",
   "metadata": {
    "id": "Pq117smwvB5m"
   },
   "source": [
    "# Entendimento dos dados\n",
    "Um simples `.info()` nos permite ver que não há necessidade de manipulação de dtypes."
   ]
  },
  {
   "cell_type": "code",
   "execution_count": 6,
   "metadata": {
    "colab": {
     "base_uri": "https://localhost:8080/"
    },
    "executionInfo": {
     "elapsed": 12717,
     "status": "ok",
     "timestamp": 1746453146331,
     "user": {
      "displayName": "João Vitor Gomes",
      "userId": "05467674276511904604"
     },
     "user_tz": 0
    },
    "id": "NZ2uOeTW6j1N",
    "outputId": "138fc551-0dfc-4ee5-b240-907e96e5563e"
   },
   "outputs": [
    {
     "name": "stdout",
     "output_type": "stream",
     "text": [
      "<class 'pandas.core.frame.DataFrame'>\n",
      "Index: 801 entries, sample_0 to sample_800\n",
      "Columns: 20531 entries, gene_0 to gene_20530\n",
      "dtypes: float64(20531)\n",
      "memory usage: 125.5+ MB\n"
     ]
    }
   ],
   "source": [
    "df = pd.read_csv(caminho, index_col= 0) # Carrega a DataFrame\n",
    "df.info() # Retorna as informações bases"
   ]
  },
  {
   "cell_type": "markdown",
   "metadata": {
    "id": "1IhruUW1t8Op"
   },
   "source": [
    "Há apenas dados numéricos."
   ]
  },
  {
   "cell_type": "code",
   "execution_count": 7,
   "metadata": {
    "colab": {
     "base_uri": "https://localhost:8080/",
     "height": 256
    },
    "executionInfo": {
     "elapsed": 100,
     "status": "ok",
     "timestamp": 1746453169614,
     "user": {
      "displayName": "João Vitor Gomes",
      "userId": "05467674276511904604"
     },
     "user_tz": 0
    },
    "id": "If2af03JBR4r",
    "outputId": "fdb8e377-bd18-4bf3-d63f-b13eda2cc418"
   },
   "outputs": [
    {
     "data": {
      "text/html": [
       "<div>\n",
       "<style scoped>\n",
       "    .dataframe tbody tr th:only-of-type {\n",
       "        vertical-align: middle;\n",
       "    }\n",
       "\n",
       "    .dataframe tbody tr th {\n",
       "        vertical-align: top;\n",
       "    }\n",
       "\n",
       "    .dataframe thead th {\n",
       "        text-align: right;\n",
       "    }\n",
       "</style>\n",
       "<table border=\"1\" class=\"dataframe\">\n",
       "  <thead>\n",
       "    <tr style=\"text-align: right;\">\n",
       "      <th></th>\n",
       "      <th>gene_0</th>\n",
       "      <th>gene_1</th>\n",
       "      <th>gene_2</th>\n",
       "      <th>gene_3</th>\n",
       "      <th>gene_4</th>\n",
       "      <th>gene_5</th>\n",
       "      <th>gene_6</th>\n",
       "      <th>gene_7</th>\n",
       "      <th>gene_8</th>\n",
       "      <th>gene_9</th>\n",
       "      <th>...</th>\n",
       "      <th>gene_20521</th>\n",
       "      <th>gene_20522</th>\n",
       "      <th>gene_20523</th>\n",
       "      <th>gene_20524</th>\n",
       "      <th>gene_20525</th>\n",
       "      <th>gene_20526</th>\n",
       "      <th>gene_20527</th>\n",
       "      <th>gene_20528</th>\n",
       "      <th>gene_20529</th>\n",
       "      <th>gene_20530</th>\n",
       "    </tr>\n",
       "  </thead>\n",
       "  <tbody>\n",
       "    <tr>\n",
       "      <th>sample_0</th>\n",
       "      <td>0.0</td>\n",
       "      <td>2.017209</td>\n",
       "      <td>3.265527</td>\n",
       "      <td>5.478487</td>\n",
       "      <td>10.431999</td>\n",
       "      <td>0.0</td>\n",
       "      <td>7.175175</td>\n",
       "      <td>0.591871</td>\n",
       "      <td>0.0</td>\n",
       "      <td>0.0</td>\n",
       "      <td>...</td>\n",
       "      <td>4.926711</td>\n",
       "      <td>8.210257</td>\n",
       "      <td>9.723516</td>\n",
       "      <td>7.220030</td>\n",
       "      <td>9.119813</td>\n",
       "      <td>12.003135</td>\n",
       "      <td>9.650743</td>\n",
       "      <td>8.921326</td>\n",
       "      <td>5.286759</td>\n",
       "      <td>0.0</td>\n",
       "    </tr>\n",
       "    <tr>\n",
       "      <th>sample_1</th>\n",
       "      <td>0.0</td>\n",
       "      <td>0.592732</td>\n",
       "      <td>1.588421</td>\n",
       "      <td>7.586157</td>\n",
       "      <td>9.623011</td>\n",
       "      <td>0.0</td>\n",
       "      <td>6.816049</td>\n",
       "      <td>0.000000</td>\n",
       "      <td>0.0</td>\n",
       "      <td>0.0</td>\n",
       "      <td>...</td>\n",
       "      <td>4.593372</td>\n",
       "      <td>7.323865</td>\n",
       "      <td>9.740931</td>\n",
       "      <td>6.256586</td>\n",
       "      <td>8.381612</td>\n",
       "      <td>12.674552</td>\n",
       "      <td>10.517059</td>\n",
       "      <td>9.397854</td>\n",
       "      <td>2.094168</td>\n",
       "      <td>0.0</td>\n",
       "    </tr>\n",
       "    <tr>\n",
       "      <th>sample_2</th>\n",
       "      <td>0.0</td>\n",
       "      <td>3.511759</td>\n",
       "      <td>4.327199</td>\n",
       "      <td>6.881787</td>\n",
       "      <td>9.870730</td>\n",
       "      <td>0.0</td>\n",
       "      <td>6.972130</td>\n",
       "      <td>0.452595</td>\n",
       "      <td>0.0</td>\n",
       "      <td>0.0</td>\n",
       "      <td>...</td>\n",
       "      <td>5.125213</td>\n",
       "      <td>8.127123</td>\n",
       "      <td>10.908640</td>\n",
       "      <td>5.401607</td>\n",
       "      <td>9.911597</td>\n",
       "      <td>9.045255</td>\n",
       "      <td>9.788359</td>\n",
       "      <td>10.090470</td>\n",
       "      <td>1.683023</td>\n",
       "      <td>0.0</td>\n",
       "    </tr>\n",
       "    <tr>\n",
       "      <th>sample_3</th>\n",
       "      <td>0.0</td>\n",
       "      <td>3.663618</td>\n",
       "      <td>4.507649</td>\n",
       "      <td>6.659068</td>\n",
       "      <td>10.196184</td>\n",
       "      <td>0.0</td>\n",
       "      <td>7.843375</td>\n",
       "      <td>0.434882</td>\n",
       "      <td>0.0</td>\n",
       "      <td>0.0</td>\n",
       "      <td>...</td>\n",
       "      <td>6.076566</td>\n",
       "      <td>8.792959</td>\n",
       "      <td>10.141520</td>\n",
       "      <td>8.942805</td>\n",
       "      <td>9.601208</td>\n",
       "      <td>11.392682</td>\n",
       "      <td>9.694814</td>\n",
       "      <td>9.684365</td>\n",
       "      <td>3.292001</td>\n",
       "      <td>0.0</td>\n",
       "    </tr>\n",
       "    <tr>\n",
       "      <th>sample_4</th>\n",
       "      <td>0.0</td>\n",
       "      <td>2.655741</td>\n",
       "      <td>2.821547</td>\n",
       "      <td>6.539454</td>\n",
       "      <td>9.738265</td>\n",
       "      <td>0.0</td>\n",
       "      <td>6.566967</td>\n",
       "      <td>0.360982</td>\n",
       "      <td>0.0</td>\n",
       "      <td>0.0</td>\n",
       "      <td>...</td>\n",
       "      <td>5.996032</td>\n",
       "      <td>8.891425</td>\n",
       "      <td>10.373790</td>\n",
       "      <td>7.181162</td>\n",
       "      <td>9.846910</td>\n",
       "      <td>11.922439</td>\n",
       "      <td>9.217749</td>\n",
       "      <td>9.461191</td>\n",
       "      <td>5.110372</td>\n",
       "      <td>0.0</td>\n",
       "    </tr>\n",
       "  </tbody>\n",
       "</table>\n",
       "<p>5 rows × 20531 columns</p>\n",
       "</div>"
      ],
      "text/plain": [
       "          gene_0    gene_1    gene_2    gene_3     gene_4  gene_5    gene_6  \\\n",
       "sample_0     0.0  2.017209  3.265527  5.478487  10.431999     0.0  7.175175   \n",
       "sample_1     0.0  0.592732  1.588421  7.586157   9.623011     0.0  6.816049   \n",
       "sample_2     0.0  3.511759  4.327199  6.881787   9.870730     0.0  6.972130   \n",
       "sample_3     0.0  3.663618  4.507649  6.659068  10.196184     0.0  7.843375   \n",
       "sample_4     0.0  2.655741  2.821547  6.539454   9.738265     0.0  6.566967   \n",
       "\n",
       "            gene_7  gene_8  gene_9  ...  gene_20521  gene_20522  gene_20523  \\\n",
       "sample_0  0.591871     0.0     0.0  ...    4.926711    8.210257    9.723516   \n",
       "sample_1  0.000000     0.0     0.0  ...    4.593372    7.323865    9.740931   \n",
       "sample_2  0.452595     0.0     0.0  ...    5.125213    8.127123   10.908640   \n",
       "sample_3  0.434882     0.0     0.0  ...    6.076566    8.792959   10.141520   \n",
       "sample_4  0.360982     0.0     0.0  ...    5.996032    8.891425   10.373790   \n",
       "\n",
       "          gene_20524  gene_20525  gene_20526  gene_20527  gene_20528  \\\n",
       "sample_0    7.220030    9.119813   12.003135    9.650743    8.921326   \n",
       "sample_1    6.256586    8.381612   12.674552   10.517059    9.397854   \n",
       "sample_2    5.401607    9.911597    9.045255    9.788359   10.090470   \n",
       "sample_3    8.942805    9.601208   11.392682    9.694814    9.684365   \n",
       "sample_4    7.181162    9.846910   11.922439    9.217749    9.461191   \n",
       "\n",
       "          gene_20529  gene_20530  \n",
       "sample_0    5.286759         0.0  \n",
       "sample_1    2.094168         0.0  \n",
       "sample_2    1.683023         0.0  \n",
       "sample_3    3.292001         0.0  \n",
       "sample_4    5.110372         0.0  \n",
       "\n",
       "[5 rows x 20531 columns]"
      ]
     },
     "execution_count": 7,
     "metadata": {},
     "output_type": "execute_result"
    }
   ],
   "source": [
    "df.head()"
   ]
  },
  {
   "cell_type": "markdown",
   "metadata": {
    "id": "s6HM-35MPwvG"
   },
   "source": [
    "Facilmente, também é possível ver que não há nenhum `NaN`:"
   ]
  },
  {
   "cell_type": "code",
   "execution_count": 8,
   "metadata": {
    "colab": {
     "base_uri": "https://localhost:8080/"
    },
    "executionInfo": {
     "elapsed": 33,
     "status": "ok",
     "timestamp": 1746453194031,
     "user": {
      "displayName": "João Vitor Gomes",
      "userId": "05467674276511904604"
     },
     "user_tz": 0
    },
    "id": "TtgC8qlBBb_C",
    "outputId": "59995155-f962-479a-d232-1448579dffb5"
   },
   "outputs": [
    {
     "data": {
      "text/plain": [
       "False"
      ]
     },
     "execution_count": 8,
     "metadata": {},
     "output_type": "execute_result"
    }
   ],
   "source": [
    "df.isna().any().any()\n",
    "# df.isna() Retorna a DataFrame com True para itens que são NaN\n",
    "# .any() # Retorna uma lista de colunas com True\n",
    "# .any() # Retorna se tem ao menos um item com coluna True"
   ]
  },
  {
   "cell_type": "markdown",
   "metadata": {
    "id": "rPEF58fgvGut"
   },
   "source": [
    "# Preparação dos dados\n"
   ]
  },
  {
   "cell_type": "markdown",
   "metadata": {
    "id": "CgUGiAg5Comy"
   },
   "source": [
    "## Scaling"
   ]
  },
  {
   "cell_type": "markdown",
   "metadata": {
    "id": "2GwweExrdBFr"
   },
   "source": [
    "O modelo *Kmeans* funciona no conceito de distância. Desta forma, valores mais altos podem atrapalhar a performance do modelo. Como não sabemos se quais atributos são mais importantes, é comum padronizar todos.\n",
    "\n",
    "A principal forma é através de [scaling](https://scikit-learn.org/stable/auto_examples/preprocessing/plot_all_scaling.html):\n",
    "\n",
    "Em diante será usado o `StandardScaler()`, porém, é possível usar [outros](https://scikit-learn.org/stable/api/sklearn.preprocessing.html#module-sklearn.preprocessing), já que cada um lida com *outliers* de maneiras [diferentes](https://scikit-learn.org/stable/auto_examples/preprocessing/plot_all_scaling.html)."
   ]
  },
  {
   "cell_type": "code",
   "execution_count": 9,
   "metadata": {
    "executionInfo": {
     "elapsed": 0,
     "status": "ok",
     "timestamp": 1746453226315,
     "user": {
      "displayName": "João Vitor Gomes",
      "userId": "05467674276511904604"
     },
     "user_tz": 0
    },
    "id": "lgbr1fEQCp3x"
   },
   "outputs": [],
   "source": [
    "from sklearn.preprocessing import StandardScaler"
   ]
  },
  {
   "cell_type": "code",
   "execution_count": 10,
   "metadata": {
    "executionInfo": {
     "elapsed": 50,
     "status": "ok",
     "timestamp": 1746453433003,
     "user": {
      "displayName": "João Vitor Gomes",
      "userId": "05467674276511904604"
     },
     "user_tz": 0
    },
    "id": "_ajJLz3dGLLV"
   },
   "outputs": [],
   "source": [
    "scaler = StandardScaler()"
   ]
  },
  {
   "cell_type": "markdown",
   "metadata": {
    "id": "_5n13bBTwQ1Q"
   },
   "source": [
    "# Modelagem E analise\n"
   ]
  },
  {
   "cell_type": "markdown",
   "metadata": {
    "id": "DlFqqzJLwT-k"
   },
   "source": [
    "## Modelagem\n",
    "O uso modelo [KMeans](https://scikit-learn.org/stable/modules/generated/sklearn.cluster.KMeans.html) é como todos os outros modelos. A principal diferença é que não é necessário rótulos ou uma *ground truth*, desta forma, uma pipeline pode ser feita e aplicada sem a necessidade de *train/test split*."
   ]
  },
  {
   "cell_type": "code",
   "execution_count": 12,
   "metadata": {
    "executionInfo": {
     "elapsed": 867,
     "status": "ok",
     "timestamp": 1746453499321,
     "user": {
      "displayName": "João Vitor Gomes",
      "userId": "05467674276511904604"
     },
     "user_tz": 0
    },
    "id": "d_UmXzc-G-u4"
   },
   "outputs": [],
   "source": [
    "from sklearn.cluster import KMeans"
   ]
  },
  {
   "cell_type": "markdown",
   "metadata": {
    "id": "gV2PQdE6foU-"
   },
   "source": [
    "O principal parâmetro a ser modificado no *KMeans* é o `n_clusters=int`, que define a quantidade de clusters (grupos) que serão feitos:"
   ]
  },
  {
   "cell_type": "code",
   "execution_count": 13,
   "metadata": {
    "executionInfo": {
     "elapsed": 0,
     "status": "ok",
     "timestamp": 1746453500288,
     "user": {
      "displayName": "João Vitor Gomes",
      "userId": "05467674276511904604"
     },
     "user_tz": 0
    },
    "id": "M8Dep84kffRi"
   },
   "outputs": [],
   "source": [
    "model = KMeans(n_clusters=5) # Cria o modelo KMeans com 5 clusters"
   ]
  },
  {
   "cell_type": "code",
   "execution_count": 14,
   "metadata": {
    "executionInfo": {
     "elapsed": 0,
     "status": "ok",
     "timestamp": 1746453500954,
     "user": {
      "displayName": "João Vitor Gomes",
      "userId": "05467674276511904604"
     },
     "user_tz": 0
    },
    "id": "kSm5iiyYGzTn"
   },
   "outputs": [],
   "source": [
    "pipe = Pipeline([('scaler', scaler),\n",
    "                 ('kmeans', model)])"
   ]
  },
  {
   "cell_type": "code",
   "execution_count": 15,
   "metadata": {
    "colab": {
     "base_uri": "https://localhost:8080/",
     "height": 157
    },
    "executionInfo": {
     "elapsed": 2233,
     "status": "ok",
     "timestamp": 1746453507904,
     "user": {
      "displayName": "João Vitor Gomes",
      "userId": "05467674276511904604"
     },
     "user_tz": 0
    },
    "id": "F91sx3nzHLDs",
    "outputId": "f8086e7c-ad4e-43fb-c5ed-602ecf7750da"
   },
   "outputs": [
    {
     "data": {
      "text/html": [
       "<style>#sk-container-id-1 {\n",
       "  /* Definition of color scheme common for light and dark mode */\n",
       "  --sklearn-color-text: #000;\n",
       "  --sklearn-color-text-muted: #666;\n",
       "  --sklearn-color-line: gray;\n",
       "  /* Definition of color scheme for unfitted estimators */\n",
       "  --sklearn-color-unfitted-level-0: #fff5e6;\n",
       "  --sklearn-color-unfitted-level-1: #f6e4d2;\n",
       "  --sklearn-color-unfitted-level-2: #ffe0b3;\n",
       "  --sklearn-color-unfitted-level-3: chocolate;\n",
       "  /* Definition of color scheme for fitted estimators */\n",
       "  --sklearn-color-fitted-level-0: #f0f8ff;\n",
       "  --sklearn-color-fitted-level-1: #d4ebff;\n",
       "  --sklearn-color-fitted-level-2: #b3dbfd;\n",
       "  --sklearn-color-fitted-level-3: cornflowerblue;\n",
       "\n",
       "  /* Specific color for light theme */\n",
       "  --sklearn-color-text-on-default-background: var(--sg-text-color, var(--theme-code-foreground, var(--jp-content-font-color1, black)));\n",
       "  --sklearn-color-background: var(--sg-background-color, var(--theme-background, var(--jp-layout-color0, white)));\n",
       "  --sklearn-color-border-box: var(--sg-text-color, var(--theme-code-foreground, var(--jp-content-font-color1, black)));\n",
       "  --sklearn-color-icon: #696969;\n",
       "\n",
       "  @media (prefers-color-scheme: dark) {\n",
       "    /* Redefinition of color scheme for dark theme */\n",
       "    --sklearn-color-text-on-default-background: var(--sg-text-color, var(--theme-code-foreground, var(--jp-content-font-color1, white)));\n",
       "    --sklearn-color-background: var(--sg-background-color, var(--theme-background, var(--jp-layout-color0, #111)));\n",
       "    --sklearn-color-border-box: var(--sg-text-color, var(--theme-code-foreground, var(--jp-content-font-color1, white)));\n",
       "    --sklearn-color-icon: #878787;\n",
       "  }\n",
       "}\n",
       "\n",
       "#sk-container-id-1 {\n",
       "  color: var(--sklearn-color-text);\n",
       "}\n",
       "\n",
       "#sk-container-id-1 pre {\n",
       "  padding: 0;\n",
       "}\n",
       "\n",
       "#sk-container-id-1 input.sk-hidden--visually {\n",
       "  border: 0;\n",
       "  clip: rect(1px 1px 1px 1px);\n",
       "  clip: rect(1px, 1px, 1px, 1px);\n",
       "  height: 1px;\n",
       "  margin: -1px;\n",
       "  overflow: hidden;\n",
       "  padding: 0;\n",
       "  position: absolute;\n",
       "  width: 1px;\n",
       "}\n",
       "\n",
       "#sk-container-id-1 div.sk-dashed-wrapped {\n",
       "  border: 1px dashed var(--sklearn-color-line);\n",
       "  margin: 0 0.4em 0.5em 0.4em;\n",
       "  box-sizing: border-box;\n",
       "  padding-bottom: 0.4em;\n",
       "  background-color: var(--sklearn-color-background);\n",
       "}\n",
       "\n",
       "#sk-container-id-1 div.sk-container {\n",
       "  /* jupyter's `normalize.less` sets `[hidden] { display: none; }`\n",
       "     but bootstrap.min.css set `[hidden] { display: none !important; }`\n",
       "     so we also need the `!important` here to be able to override the\n",
       "     default hidden behavior on the sphinx rendered scikit-learn.org.\n",
       "     See: https://github.com/scikit-learn/scikit-learn/issues/21755 */\n",
       "  display: inline-block !important;\n",
       "  position: relative;\n",
       "}\n",
       "\n",
       "#sk-container-id-1 div.sk-text-repr-fallback {\n",
       "  display: none;\n",
       "}\n",
       "\n",
       "div.sk-parallel-item,\n",
       "div.sk-serial,\n",
       "div.sk-item {\n",
       "  /* draw centered vertical line to link estimators */\n",
       "  background-image: linear-gradient(var(--sklearn-color-text-on-default-background), var(--sklearn-color-text-on-default-background));\n",
       "  background-size: 2px 100%;\n",
       "  background-repeat: no-repeat;\n",
       "  background-position: center center;\n",
       "}\n",
       "\n",
       "/* Parallel-specific style estimator block */\n",
       "\n",
       "#sk-container-id-1 div.sk-parallel-item::after {\n",
       "  content: \"\";\n",
       "  width: 100%;\n",
       "  border-bottom: 2px solid var(--sklearn-color-text-on-default-background);\n",
       "  flex-grow: 1;\n",
       "}\n",
       "\n",
       "#sk-container-id-1 div.sk-parallel {\n",
       "  display: flex;\n",
       "  align-items: stretch;\n",
       "  justify-content: center;\n",
       "  background-color: var(--sklearn-color-background);\n",
       "  position: relative;\n",
       "}\n",
       "\n",
       "#sk-container-id-1 div.sk-parallel-item {\n",
       "  display: flex;\n",
       "  flex-direction: column;\n",
       "}\n",
       "\n",
       "#sk-container-id-1 div.sk-parallel-item:first-child::after {\n",
       "  align-self: flex-end;\n",
       "  width: 50%;\n",
       "}\n",
       "\n",
       "#sk-container-id-1 div.sk-parallel-item:last-child::after {\n",
       "  align-self: flex-start;\n",
       "  width: 50%;\n",
       "}\n",
       "\n",
       "#sk-container-id-1 div.sk-parallel-item:only-child::after {\n",
       "  width: 0;\n",
       "}\n",
       "\n",
       "/* Serial-specific style estimator block */\n",
       "\n",
       "#sk-container-id-1 div.sk-serial {\n",
       "  display: flex;\n",
       "  flex-direction: column;\n",
       "  align-items: center;\n",
       "  background-color: var(--sklearn-color-background);\n",
       "  padding-right: 1em;\n",
       "  padding-left: 1em;\n",
       "}\n",
       "\n",
       "\n",
       "/* Toggleable style: style used for estimator/Pipeline/ColumnTransformer box that is\n",
       "clickable and can be expanded/collapsed.\n",
       "- Pipeline and ColumnTransformer use this feature and define the default style\n",
       "- Estimators will overwrite some part of the style using the `sk-estimator` class\n",
       "*/\n",
       "\n",
       "/* Pipeline and ColumnTransformer style (default) */\n",
       "\n",
       "#sk-container-id-1 div.sk-toggleable {\n",
       "  /* Default theme specific background. It is overwritten whether we have a\n",
       "  specific estimator or a Pipeline/ColumnTransformer */\n",
       "  background-color: var(--sklearn-color-background);\n",
       "}\n",
       "\n",
       "/* Toggleable label */\n",
       "#sk-container-id-1 label.sk-toggleable__label {\n",
       "  cursor: pointer;\n",
       "  display: flex;\n",
       "  width: 100%;\n",
       "  margin-bottom: 0;\n",
       "  padding: 0.5em;\n",
       "  box-sizing: border-box;\n",
       "  text-align: center;\n",
       "  align-items: start;\n",
       "  justify-content: space-between;\n",
       "  gap: 0.5em;\n",
       "}\n",
       "\n",
       "#sk-container-id-1 label.sk-toggleable__label .caption {\n",
       "  font-size: 0.6rem;\n",
       "  font-weight: lighter;\n",
       "  color: var(--sklearn-color-text-muted);\n",
       "}\n",
       "\n",
       "#sk-container-id-1 label.sk-toggleable__label-arrow:before {\n",
       "  /* Arrow on the left of the label */\n",
       "  content: \"▸\";\n",
       "  float: left;\n",
       "  margin-right: 0.25em;\n",
       "  color: var(--sklearn-color-icon);\n",
       "}\n",
       "\n",
       "#sk-container-id-1 label.sk-toggleable__label-arrow:hover:before {\n",
       "  color: var(--sklearn-color-text);\n",
       "}\n",
       "\n",
       "/* Toggleable content - dropdown */\n",
       "\n",
       "#sk-container-id-1 div.sk-toggleable__content {\n",
       "  max-height: 0;\n",
       "  max-width: 0;\n",
       "  overflow: hidden;\n",
       "  text-align: left;\n",
       "  /* unfitted */\n",
       "  background-color: var(--sklearn-color-unfitted-level-0);\n",
       "}\n",
       "\n",
       "#sk-container-id-1 div.sk-toggleable__content.fitted {\n",
       "  /* fitted */\n",
       "  background-color: var(--sklearn-color-fitted-level-0);\n",
       "}\n",
       "\n",
       "#sk-container-id-1 div.sk-toggleable__content pre {\n",
       "  margin: 0.2em;\n",
       "  border-radius: 0.25em;\n",
       "  color: var(--sklearn-color-text);\n",
       "  /* unfitted */\n",
       "  background-color: var(--sklearn-color-unfitted-level-0);\n",
       "}\n",
       "\n",
       "#sk-container-id-1 div.sk-toggleable__content.fitted pre {\n",
       "  /* unfitted */\n",
       "  background-color: var(--sklearn-color-fitted-level-0);\n",
       "}\n",
       "\n",
       "#sk-container-id-1 input.sk-toggleable__control:checked~div.sk-toggleable__content {\n",
       "  /* Expand drop-down */\n",
       "  max-height: 200px;\n",
       "  max-width: 100%;\n",
       "  overflow: auto;\n",
       "}\n",
       "\n",
       "#sk-container-id-1 input.sk-toggleable__control:checked~label.sk-toggleable__label-arrow:before {\n",
       "  content: \"▾\";\n",
       "}\n",
       "\n",
       "/* Pipeline/ColumnTransformer-specific style */\n",
       "\n",
       "#sk-container-id-1 div.sk-label input.sk-toggleable__control:checked~label.sk-toggleable__label {\n",
       "  color: var(--sklearn-color-text);\n",
       "  background-color: var(--sklearn-color-unfitted-level-2);\n",
       "}\n",
       "\n",
       "#sk-container-id-1 div.sk-label.fitted input.sk-toggleable__control:checked~label.sk-toggleable__label {\n",
       "  background-color: var(--sklearn-color-fitted-level-2);\n",
       "}\n",
       "\n",
       "/* Estimator-specific style */\n",
       "\n",
       "/* Colorize estimator box */\n",
       "#sk-container-id-1 div.sk-estimator input.sk-toggleable__control:checked~label.sk-toggleable__label {\n",
       "  /* unfitted */\n",
       "  background-color: var(--sklearn-color-unfitted-level-2);\n",
       "}\n",
       "\n",
       "#sk-container-id-1 div.sk-estimator.fitted input.sk-toggleable__control:checked~label.sk-toggleable__label {\n",
       "  /* fitted */\n",
       "  background-color: var(--sklearn-color-fitted-level-2);\n",
       "}\n",
       "\n",
       "#sk-container-id-1 div.sk-label label.sk-toggleable__label,\n",
       "#sk-container-id-1 div.sk-label label {\n",
       "  /* The background is the default theme color */\n",
       "  color: var(--sklearn-color-text-on-default-background);\n",
       "}\n",
       "\n",
       "/* On hover, darken the color of the background */\n",
       "#sk-container-id-1 div.sk-label:hover label.sk-toggleable__label {\n",
       "  color: var(--sklearn-color-text);\n",
       "  background-color: var(--sklearn-color-unfitted-level-2);\n",
       "}\n",
       "\n",
       "/* Label box, darken color on hover, fitted */\n",
       "#sk-container-id-1 div.sk-label.fitted:hover label.sk-toggleable__label.fitted {\n",
       "  color: var(--sklearn-color-text);\n",
       "  background-color: var(--sklearn-color-fitted-level-2);\n",
       "}\n",
       "\n",
       "/* Estimator label */\n",
       "\n",
       "#sk-container-id-1 div.sk-label label {\n",
       "  font-family: monospace;\n",
       "  font-weight: bold;\n",
       "  display: inline-block;\n",
       "  line-height: 1.2em;\n",
       "}\n",
       "\n",
       "#sk-container-id-1 div.sk-label-container {\n",
       "  text-align: center;\n",
       "}\n",
       "\n",
       "/* Estimator-specific */\n",
       "#sk-container-id-1 div.sk-estimator {\n",
       "  font-family: monospace;\n",
       "  border: 1px dotted var(--sklearn-color-border-box);\n",
       "  border-radius: 0.25em;\n",
       "  box-sizing: border-box;\n",
       "  margin-bottom: 0.5em;\n",
       "  /* unfitted */\n",
       "  background-color: var(--sklearn-color-unfitted-level-0);\n",
       "}\n",
       "\n",
       "#sk-container-id-1 div.sk-estimator.fitted {\n",
       "  /* fitted */\n",
       "  background-color: var(--sklearn-color-fitted-level-0);\n",
       "}\n",
       "\n",
       "/* on hover */\n",
       "#sk-container-id-1 div.sk-estimator:hover {\n",
       "  /* unfitted */\n",
       "  background-color: var(--sklearn-color-unfitted-level-2);\n",
       "}\n",
       "\n",
       "#sk-container-id-1 div.sk-estimator.fitted:hover {\n",
       "  /* fitted */\n",
       "  background-color: var(--sklearn-color-fitted-level-2);\n",
       "}\n",
       "\n",
       "/* Specification for estimator info (e.g. \"i\" and \"?\") */\n",
       "\n",
       "/* Common style for \"i\" and \"?\" */\n",
       "\n",
       ".sk-estimator-doc-link,\n",
       "a:link.sk-estimator-doc-link,\n",
       "a:visited.sk-estimator-doc-link {\n",
       "  float: right;\n",
       "  font-size: smaller;\n",
       "  line-height: 1em;\n",
       "  font-family: monospace;\n",
       "  background-color: var(--sklearn-color-background);\n",
       "  border-radius: 1em;\n",
       "  height: 1em;\n",
       "  width: 1em;\n",
       "  text-decoration: none !important;\n",
       "  margin-left: 0.5em;\n",
       "  text-align: center;\n",
       "  /* unfitted */\n",
       "  border: var(--sklearn-color-unfitted-level-1) 1pt solid;\n",
       "  color: var(--sklearn-color-unfitted-level-1);\n",
       "}\n",
       "\n",
       ".sk-estimator-doc-link.fitted,\n",
       "a:link.sk-estimator-doc-link.fitted,\n",
       "a:visited.sk-estimator-doc-link.fitted {\n",
       "  /* fitted */\n",
       "  border: var(--sklearn-color-fitted-level-1) 1pt solid;\n",
       "  color: var(--sklearn-color-fitted-level-1);\n",
       "}\n",
       "\n",
       "/* On hover */\n",
       "div.sk-estimator:hover .sk-estimator-doc-link:hover,\n",
       ".sk-estimator-doc-link:hover,\n",
       "div.sk-label-container:hover .sk-estimator-doc-link:hover,\n",
       ".sk-estimator-doc-link:hover {\n",
       "  /* unfitted */\n",
       "  background-color: var(--sklearn-color-unfitted-level-3);\n",
       "  color: var(--sklearn-color-background);\n",
       "  text-decoration: none;\n",
       "}\n",
       "\n",
       "div.sk-estimator.fitted:hover .sk-estimator-doc-link.fitted:hover,\n",
       ".sk-estimator-doc-link.fitted:hover,\n",
       "div.sk-label-container:hover .sk-estimator-doc-link.fitted:hover,\n",
       ".sk-estimator-doc-link.fitted:hover {\n",
       "  /* fitted */\n",
       "  background-color: var(--sklearn-color-fitted-level-3);\n",
       "  color: var(--sklearn-color-background);\n",
       "  text-decoration: none;\n",
       "}\n",
       "\n",
       "/* Span, style for the box shown on hovering the info icon */\n",
       ".sk-estimator-doc-link span {\n",
       "  display: none;\n",
       "  z-index: 9999;\n",
       "  position: relative;\n",
       "  font-weight: normal;\n",
       "  right: .2ex;\n",
       "  padding: .5ex;\n",
       "  margin: .5ex;\n",
       "  width: min-content;\n",
       "  min-width: 20ex;\n",
       "  max-width: 50ex;\n",
       "  color: var(--sklearn-color-text);\n",
       "  box-shadow: 2pt 2pt 4pt #999;\n",
       "  /* unfitted */\n",
       "  background: var(--sklearn-color-unfitted-level-0);\n",
       "  border: .5pt solid var(--sklearn-color-unfitted-level-3);\n",
       "}\n",
       "\n",
       ".sk-estimator-doc-link.fitted span {\n",
       "  /* fitted */\n",
       "  background: var(--sklearn-color-fitted-level-0);\n",
       "  border: var(--sklearn-color-fitted-level-3);\n",
       "}\n",
       "\n",
       ".sk-estimator-doc-link:hover span {\n",
       "  display: block;\n",
       "}\n",
       "\n",
       "/* \"?\"-specific style due to the `<a>` HTML tag */\n",
       "\n",
       "#sk-container-id-1 a.estimator_doc_link {\n",
       "  float: right;\n",
       "  font-size: 1rem;\n",
       "  line-height: 1em;\n",
       "  font-family: monospace;\n",
       "  background-color: var(--sklearn-color-background);\n",
       "  border-radius: 1rem;\n",
       "  height: 1rem;\n",
       "  width: 1rem;\n",
       "  text-decoration: none;\n",
       "  /* unfitted */\n",
       "  color: var(--sklearn-color-unfitted-level-1);\n",
       "  border: var(--sklearn-color-unfitted-level-1) 1pt solid;\n",
       "}\n",
       "\n",
       "#sk-container-id-1 a.estimator_doc_link.fitted {\n",
       "  /* fitted */\n",
       "  border: var(--sklearn-color-fitted-level-1) 1pt solid;\n",
       "  color: var(--sklearn-color-fitted-level-1);\n",
       "}\n",
       "\n",
       "/* On hover */\n",
       "#sk-container-id-1 a.estimator_doc_link:hover {\n",
       "  /* unfitted */\n",
       "  background-color: var(--sklearn-color-unfitted-level-3);\n",
       "  color: var(--sklearn-color-background);\n",
       "  text-decoration: none;\n",
       "}\n",
       "\n",
       "#sk-container-id-1 a.estimator_doc_link.fitted:hover {\n",
       "  /* fitted */\n",
       "  background-color: var(--sklearn-color-fitted-level-3);\n",
       "}\n",
       "</style><div id=\"sk-container-id-1\" class=\"sk-top-container\"><div class=\"sk-text-repr-fallback\"><pre>Pipeline(steps=[(&#x27;scaler&#x27;, StandardScaler()), (&#x27;kmeans&#x27;, KMeans(n_clusters=5))])</pre><b>In a Jupyter environment, please rerun this cell to show the HTML representation or trust the notebook. <br />On GitHub, the HTML representation is unable to render, please try loading this page with nbviewer.org.</b></div><div class=\"sk-container\" hidden><div class=\"sk-item sk-dashed-wrapped\"><div class=\"sk-label-container\"><div class=\"sk-label fitted sk-toggleable\"><input class=\"sk-toggleable__control sk-hidden--visually\" id=\"sk-estimator-id-1\" type=\"checkbox\" ><label for=\"sk-estimator-id-1\" class=\"sk-toggleable__label fitted sk-toggleable__label-arrow\"><div><div>Pipeline</div></div><div><a class=\"sk-estimator-doc-link fitted\" rel=\"noreferrer\" target=\"_blank\" href=\"https://scikit-learn.org/1.6/modules/generated/sklearn.pipeline.Pipeline.html\">?<span>Documentation for Pipeline</span></a><span class=\"sk-estimator-doc-link fitted\">i<span>Fitted</span></span></div></label><div class=\"sk-toggleable__content fitted\"><pre>Pipeline(steps=[(&#x27;scaler&#x27;, StandardScaler()), (&#x27;kmeans&#x27;, KMeans(n_clusters=5))])</pre></div> </div></div><div class=\"sk-serial\"><div class=\"sk-item\"><div class=\"sk-estimator fitted sk-toggleable\"><input class=\"sk-toggleable__control sk-hidden--visually\" id=\"sk-estimator-id-2\" type=\"checkbox\" ><label for=\"sk-estimator-id-2\" class=\"sk-toggleable__label fitted sk-toggleable__label-arrow\"><div><div>StandardScaler</div></div><div><a class=\"sk-estimator-doc-link fitted\" rel=\"noreferrer\" target=\"_blank\" href=\"https://scikit-learn.org/1.6/modules/generated/sklearn.preprocessing.StandardScaler.html\">?<span>Documentation for StandardScaler</span></a></div></label><div class=\"sk-toggleable__content fitted\"><pre>StandardScaler()</pre></div> </div></div><div class=\"sk-item\"><div class=\"sk-estimator fitted sk-toggleable\"><input class=\"sk-toggleable__control sk-hidden--visually\" id=\"sk-estimator-id-3\" type=\"checkbox\" ><label for=\"sk-estimator-id-3\" class=\"sk-toggleable__label fitted sk-toggleable__label-arrow\"><div><div>KMeans</div></div><div><a class=\"sk-estimator-doc-link fitted\" rel=\"noreferrer\" target=\"_blank\" href=\"https://scikit-learn.org/1.6/modules/generated/sklearn.cluster.KMeans.html\">?<span>Documentation for KMeans</span></a></div></label><div class=\"sk-toggleable__content fitted\"><pre>KMeans(n_clusters=5)</pre></div> </div></div></div></div></div></div>"
      ],
      "text/plain": [
       "Pipeline(steps=[('scaler', StandardScaler()), ('kmeans', KMeans(n_clusters=5))])"
      ]
     },
     "execution_count": 15,
     "metadata": {},
     "output_type": "execute_result"
    }
   ],
   "source": [
    "pipe.fit(df) # Treina o modelo"
   ]
  },
  {
   "cell_type": "markdown",
   "metadata": {
    "id": "KEbpKWJqjiMM"
   },
   "source": [
    "## Resultados\n",
    "As classificações podem ser acessadas por diferentes métodos."
   ]
  },
  {
   "cell_type": "markdown",
   "metadata": {
    "id": "40Ch7t9NtChQ"
   },
   "source": [
    "\n",
    "\n",
    "Pelo atributo `.labels_` do modelo:"
   ]
  },
  {
   "cell_type": "code",
   "execution_count": 16,
   "metadata": {
    "colab": {
     "base_uri": "https://localhost:8080/"
    },
    "executionInfo": {
     "elapsed": 0,
     "status": "ok",
     "timestamp": 1746453583073,
     "user": {
      "displayName": "João Vitor Gomes",
      "userId": "05467674276511904604"
     },
     "user_tz": 0
    },
    "id": "pBsdbyHpkKRm",
    "outputId": "6568a778-0c6e-49a3-e235-97099711ff68"
   },
   "outputs": [
    {
     "data": {
      "text/plain": [
       "array([1, 4, 1, 1, 3], dtype=int32)"
      ]
     },
     "execution_count": 16,
     "metadata": {},
     "output_type": "execute_result"
    }
   ],
   "source": [
    "labels = pipe['kmeans'].labels_\n",
    "labels[0:5] # Retorna as 5 primeiras classificações"
   ]
  },
  {
   "cell_type": "markdown",
   "metadata": {
    "id": "S6kJKuMfqyH7"
   },
   "source": [
    "Pode ser também adquirido ao usar do `.predict()` nos dados originais, ou em dados novos."
   ]
  },
  {
   "cell_type": "code",
   "execution_count": 17,
   "metadata": {
    "colab": {
     "base_uri": "https://localhost:8080/"
    },
    "executionInfo": {
     "elapsed": 350,
     "status": "ok",
     "timestamp": 1746453580473,
     "user": {
      "displayName": "João Vitor Gomes",
      "userId": "05467674276511904604"
     },
     "user_tz": 0
    },
    "id": "6FWUySeDto63",
    "outputId": "fe622ea7-3f5e-47ca-a477-de46a7777992"
   },
   "outputs": [
    {
     "data": {
      "text/plain": [
       "array([1, 4, 1, 1, 3], dtype=int32)"
      ]
     },
     "execution_count": 17,
     "metadata": {},
     "output_type": "execute_result"
    }
   ],
   "source": [
    "labels = pipe.predict(df)\n",
    "labels[0:5] # Retorna os cinco primeiros itens"
   ]
  },
  {
   "cell_type": "markdown",
   "metadata": {
    "id": "rWtx4-v3o2gk"
   },
   "source": [
    "Também pode ser atribuído a uma variável junto com o treino do modelo, através do método fit_predict.\n",
    "\n"
   ]
  },
  {
   "cell_type": "code",
   "execution_count": 21,
   "metadata": {
    "colab": {
     "base_uri": "https://localhost:8080/"
    },
    "executionInfo": {
     "elapsed": 1234,
     "status": "ok",
     "timestamp": 1746453574806,
     "user": {
      "displayName": "João Vitor Gomes",
      "userId": "05467674276511904604"
     },
     "user_tz": 0
    },
    "id": "_jT4qY_2qS5t",
    "outputId": "bbc036f7-c83d-460d-92f5-5848bb45b420"
   },
   "outputs": [
    {
     "data": {
      "text/plain": [
       "array([4, 3, 4, 4, 0], dtype=int32)"
      ]
     },
     "execution_count": 21,
     "metadata": {},
     "output_type": "execute_result"
    }
   ],
   "source": [
    "labels = pipe.fit_predict(df)\n",
    "labels[0:5] # Retorna os cinco primeiros itens"
   ]
  },
  {
   "cell_type": "markdown",
   "metadata": {
    "id": "LFJGUf-XwbiK"
   },
   "source": [
    "## Análise\n",
    "O principal problema da análise de um modelo não-supervisionado é o desenvolvimento de um método de pontuação: como saber se uma predição foi a \"correta\" sem uma comparação com uma verdade.\n",
    "\n",
    "Felizmente, há diversas métricas oferecidas pelo `sklearn.metrics` que permitem a avaliação do modelo."
   ]
  },
  {
   "cell_type": "markdown",
   "metadata": {
    "id": "pFVNwx30MYqY"
   },
   "source": [
    "### Com labels\n",
    "Como sabemos, neste caso, a classificação original, podemos usar de diversos métodos de comparação:"
   ]
  },
  {
   "cell_type": "code",
   "execution_count": 18,
   "metadata": {
    "colab": {
     "base_uri": "https://localhost:8080/",
     "height": 241
    },
    "executionInfo": {
     "elapsed": 417,
     "status": "ok",
     "timestamp": 1746453593906,
     "user": {
      "displayName": "João Vitor Gomes",
      "userId": "05467674276511904604"
     },
     "user_tz": 0
    },
    "id": "SuiBMz_hMaKv",
    "outputId": "005eb58e-12fd-4324-9a20-f4d41f77abc7"
   },
   "outputs": [
    {
     "data": {
      "text/plain": [
       "0    PRAD\n",
       "1    LUAD\n",
       "2    PRAD\n",
       "3    PRAD\n",
       "4    BRCA\n",
       "Name: Class, dtype: object"
      ]
     },
     "execution_count": 18,
     "metadata": {},
     "output_type": "execute_result"
    }
   ],
   "source": [
    "# Cria a DataFrame com os rótulos oficiais\n",
    "df_labels = pd.read_csv('https://github.com/JCFDGG/LOB1266-PUB/raw/refs/heads/main/ExemplosAula/cluster/TCGA-PANCAN/labels.csv')\n",
    "\n",
    "# Seleciona a coluna Class\n",
    "true_labels = df_labels['Class']\n",
    "true_labels[0:5] # Retorna os cinco primeiros itens"
   ]
  },
  {
   "cell_type": "markdown",
   "metadata": {
    "id": "JbacQ95gsDC8"
   },
   "source": [
    "A explicação dos métodos podem ser melhor exploradas na [documentação](https://scikit-learn.org/stable/modules/clustering.html#clustering-evaluation)."
   ]
  },
  {
   "cell_type": "code",
   "execution_count": 19,
   "metadata": {
    "executionInfo": {
     "elapsed": 33,
     "status": "ok",
     "timestamp": 1746453830544,
     "user": {
      "displayName": "João Vitor Gomes",
      "userId": "05467674276511904604"
     },
     "user_tz": 0
    },
    "id": "AGqdgFZiHeLr"
   },
   "outputs": [],
   "source": [
    "from sklearn.metrics import adjusted_rand_score, adjusted_mutual_info_score, pair_confusion_matrix"
   ]
  },
  {
   "cell_type": "markdown",
   "metadata": {
    "id": "B7Fne43u2oIo"
   },
   "source": [
    "### Scores\n",
    "Há diversos diferentes tipos de , e seus usos dependem da necessidade. Porém, todos se baseiam em semelhança, isto é, se os membros foram agrupados no mesmo grupo."
   ]
  },
  {
   "cell_type": "markdown",
   "metadata": {
    "id": "b_7wSFT63oil"
   },
   "source": [
    "O método [`pair_confusion_matrix()`](https://scikit-learn.org/stable/modules/clustering.html#pair-confusion-matrix) retorna uma matriz com números de pares (e permutações) comparados com os grupos originais.\n",
    "\n",
    "$$\n",
    "\\begin{split}C = \\left[\\begin{matrix}\n",
    "C_{00} & C_{01} \\\\\n",
    "C_{10} & C_{11}\n",
    "\\end{matrix}\\right]\\end{split}\n",
    "$$\n",
    "$C_{00}$ é o número de pares que não estavam no mesmo grupo, e o modelo corretamente colocou em grupos diferentes;  \n",
    "$C_{11}$ é o número de pares que estavam no mesmo grupo, e o modelo corretamente colocou no mesmo grupo.  \n",
    "$C_{01}$ é o número de pares que estavam em grupos diferentes, mas o modelo colocou no mesmo grupos.  \n",
    "$C_{10}$ é o número de pares que estavam no mesmo grupo, mas o modelo colocou em grupos diferentes.\n",
    "\n",
    "Uma classificação perfeita seria\n",
    "$$\n",
    "\\begin{split}C = \\left[\\begin{matrix}\n",
    "C_{00} & 0 \\\\\n",
    "0 & C_{11}\n",
    "\\end{matrix}\\right]\\end{split}\n",
    "$$"
   ]
  },
  {
   "cell_type": "code",
   "execution_count": 20,
   "metadata": {
    "colab": {
     "base_uri": "https://localhost:8080/"
    },
    "executionInfo": {
     "elapsed": 33,
     "status": "ok",
     "timestamp": 1746453841244,
     "user": {
      "displayName": "João Vitor Gomes",
      "userId": "05467674276511904604"
     },
     "user_tz": 0
    },
    "id": "gR9SSwx9UBWB",
    "outputId": "7abf4c00-ebef-4151-a97b-9ed18bc263aa"
   },
   "outputs": [
    {
     "data": {
      "text/plain": [
       "array([[467282,  18542],\n",
       "       [ 28158, 126818]])"
      ]
     },
     "execution_count": 20,
     "metadata": {},
     "output_type": "execute_result"
    }
   ],
   "source": [
    "pair_confusion_matrix(true_labels, labels)"
   ]
  },
  {
   "cell_type": "markdown",
   "metadata": {
    "id": "0PEAnLL7-HjA"
   },
   "source": [
    "O `rand_score()` retorna o valor de pares em que os rótulos \"concordam\" $(\\frac{C_{00} + C_{11}}{C_{00} + C_{11} + C_{10} + c_{01}})$.  Ela é baseado no Rand Index:\n",
    "$$\n",
    "RI = \\frac{\\text{Agrupagens corretas}}{\\text{Número total de pares}}\n",
    "$$\n",
    "\n",
    "Já o `adjusted_rand_score()` ajusta o resultado para considerar rotulagem aleatória. Desta forma, uma rotulagem aleatória resulta em 0, e uma rotulagem perfeita em 1.\n",
    "Em que as agrupagens corretas são dadas pela soma de pares que foram corretamente agrupados juntos ou separados.  \n",
    "$$\n",
    "ARI = \\frac{\\text{RI} - \\text{RI}_{\\text{esperado}} }{\\text{RI}_{\\text{Máximo}} - \\text{RI}_{\\text{esperado}} }\n",
    "$$\n",
    "Em que $RI_{\\text{esperado}}$ é o valor médio de RI quando a agrupagem ocorre aleatoriamente."
   ]
  },
  {
   "cell_type": "code",
   "execution_count": 21,
   "metadata": {
    "colab": {
     "base_uri": "https://localhost:8080/"
    },
    "executionInfo": {
     "elapsed": 17,
     "status": "ok",
     "timestamp": 1746453844028,
     "user": {
      "displayName": "João Vitor Gomes",
      "userId": "05467674276511904604"
     },
     "user_tz": 0
    },
    "id": "vmhmGqpWNq-N",
    "outputId": "4e42f503-8f85-469c-a205-ee81911312a0"
   },
   "outputs": [
    {
     "data": {
      "text/plain": [
       "0.7969795067048849"
      ]
     },
     "execution_count": 21,
     "metadata": {},
     "output_type": "execute_result"
    }
   ],
   "source": [
    "adjusted_rand_score(true_labels, labels)"
   ]
  },
  {
   "cell_type": "markdown",
   "metadata": {
    "id": "T3bYAN7__0iq"
   },
   "source": [
    "Há outras [métricas de interesse](https://scikit-learn.org/stable/api/sklearn.metrics.html#module-sklearn.metrics.cluster),  alguns são baseados em uma _ground truth_, enquanto outros em outros métodos. Mas a impĺementação tende a ser semelhante. Segue um exemplo de `normalized_mutual_info_score()`:"
   ]
  },
  {
   "cell_type": "code",
   "execution_count": 22,
   "metadata": {
    "colab": {
     "base_uri": "https://localhost:8080/"
    },
    "executionInfo": {
     "elapsed": 33,
     "status": "ok",
     "timestamp": 1746454003431,
     "user": {
      "displayName": "João Vitor Gomes",
      "userId": "05467674276511904604"
     },
     "user_tz": 0
    },
    "id": "BZ8K7paqSAiG",
    "outputId": "9246c848-9dbf-48da-be54-7630e0ec5fbb"
   },
   "outputs": [
    {
     "data": {
      "text/plain": [
       "0.8577921445029066"
      ]
     },
     "execution_count": 22,
     "metadata": {},
     "output_type": "execute_result"
    }
   ],
   "source": [
    "from sklearn.metrics import normalized_mutual_info_score\n",
    "normalized_mutual_info_score(true_labels, labels)"
   ]
  },
  {
   "cell_type": "markdown",
   "metadata": {
    "id": "J1omvnJxM-Ks"
   },
   "source": [
    "## Sem labels"
   ]
  },
  {
   "cell_type": "markdown",
   "metadata": {
    "id": "TrMxB8A-FFq4"
   },
   "source": [
    "Quando não se sabem os grupos corretos, há diferentes métodos de avaliar o modelo.  \n",
    "O valor mais simples é a `inertia_`, que é a soma das distâncias entre os membros de um grupo e seu centróide. Este valor já é incorporado ao modelo após aplicar `.fit()`"
   ]
  },
  {
   "cell_type": "code",
   "execution_count": 25,
   "metadata": {
    "colab": {
     "base_uri": "https://localhost:8080/"
    },
    "executionInfo": {
     "elapsed": 0,
     "status": "ok",
     "timestamp": 1746454009381,
     "user": {
      "displayName": "João Vitor Gomes",
      "userId": "05467674276511904604"
     },
     "user_tz": 0
    },
    "id": "fSw9RmAQGP0B",
    "outputId": "ba3eb0af-c7b9-4c8c-852e-6c09d2ca95b1"
   },
   "outputs": [
    {
     "data": {
      "text/plain": [
       "12197185.766132312"
      ]
     },
     "execution_count": 25,
     "metadata": {},
     "output_type": "execute_result"
    }
   ],
   "source": [
    "pipe['kmeans'].inertia_"
   ]
  },
  {
   "cell_type": "markdown",
   "metadata": {
    "id": "S0uvClwcGOuf"
   },
   "source": [
    "O problema deste valor é que, em espaços de altas dimensões (como as 20 mil que temos), o valor se torna extremo.  \n",
    "Assim, é necessário um valor que permite alterar a métrica usada para o cálculo das distâncias, como `silhouette_score()`:"
   ]
  },
  {
   "cell_type": "code",
   "execution_count": 26,
   "metadata": {
    "executionInfo": {
     "elapsed": 17,
     "status": "ok",
     "timestamp": 1746454029965,
     "user": {
      "displayName": "João Vitor Gomes",
      "userId": "05467674276511904604"
     },
     "user_tz": 0
    },
    "id": "BaT2LJjaHSDL"
   },
   "outputs": [],
   "source": [
    "from sklearn.metrics import silhouette_score, davies_bouldin_score"
   ]
  },
  {
   "cell_type": "markdown",
   "metadata": {
    "id": "tyadgrIFICBz"
   },
   "source": [
    "O argumento `metric='euclidian'` permite alterar a fórmula de distância utilizada. Caso omitido, o valor padrão é `'euclidian'`. Um valor próximo de 1 indica grupos densos e com baixa sobreposição."
   ]
  },
  {
   "cell_type": "code",
   "execution_count": 27,
   "metadata": {
    "colab": {
     "base_uri": "https://localhost:8080/"
    },
    "executionInfo": {
     "elapsed": 1500,
     "status": "ok",
     "timestamp": 1746454040882,
     "user": {
      "displayName": "João Vitor Gomes",
      "userId": "05467674276511904604"
     },
     "user_tz": 0
    },
    "id": "3cuJDIv4NoRi",
    "outputId": "8fd1faa9-97b1-47f0-acd1-07a7825400c6"
   },
   "outputs": [
    {
     "name": "stdout",
     "output_type": "stream",
     "text": [
      " Silhouette_score para: \n",
      "\n",
      "metric=euclidian : 0.209\n",
      "metric=cosine : 0.352\n"
     ]
    }
   ],
   "source": [
    "print(\"\"\" Silhouette_score para: \\n\n",
    "metric=euclidian : %.3f\n",
    "metric=cosine : %.3f\"\"\" % (\n",
    "    silhouette_score(df, labels, metric='euclidean'), # O silhouette_score com métrica euclidean\n",
    "    silhouette_score(df, labels, metric='cosine') # O silhouette_score com métrica cosine\n",
    "    )\n",
    ")"
   ]
  },
  {
   "cell_type": "markdown",
   "metadata": {
    "id": "zaot8bLa3yQz"
   },
   "source": [
    "Também existe o `Davies_bouldin_score`, que é melhor para dados convexos e de diferentes tamanhos. Quanto mais próximo de 0, melhor o modelo."
   ]
  },
  {
   "cell_type": "code",
   "execution_count": 28,
   "metadata": {
    "colab": {
     "base_uri": "https://localhost:8080/"
    },
    "executionInfo": {
     "elapsed": 333,
     "status": "ok",
     "timestamp": 1746454189018,
     "user": {
      "displayName": "João Vitor Gomes",
      "userId": "05467674276511904604"
     },
     "user_tz": 0
    },
    "id": "anacrRXXUQMC",
    "outputId": "63cc62af-3d66-4585-9d88-bde9de5da66a"
   },
   "outputs": [
    {
     "data": {
      "text/plain": [
       "2.0763990390999267"
      ]
     },
     "execution_count": 28,
     "metadata": {},
     "output_type": "execute_result"
    }
   ],
   "source": [
    "davies_bouldin_score(df,labels)"
   ]
  },
  {
   "cell_type": "markdown",
   "metadata": {
    "id": "GdJXAPDiMuvx"
   },
   "source": [
    "Novamente, estes valores indicam um modelo ruim, porém, como há >20 mil dimensões, é ideal reduzi-las para obter um resultado mais coerente."
   ]
  },
  {
   "cell_type": "markdown",
   "metadata": {
    "id": "qpKkiLlri-Bi"
   },
   "source": [
    "## Redução de Dimensão"
   ]
  },
  {
   "cell_type": "markdown",
   "metadata": {
    "id": "-guUcmm3wid7"
   },
   "source": [
    "## Principal Component Analysis\n",
    "Visto que um dos maiores problemas surge por causa do excesso de dimensões. Assim, é necessário métodos de reduzir essas dimensões, mas retendo as relações entre os pontos.  \n",
    "Há diversos métodos que permitem atingir este objetivo. Aqui, introduz-se o `Principal Component Analysis`, ou PCA, que pode ser usado tanto no treinamento do modelo, como na avaliação."
   ]
  },
  {
   "cell_type": "code",
   "execution_count": 29,
   "metadata": {
    "executionInfo": {
     "elapsed": 0,
     "status": "ok",
     "timestamp": 1746454221885,
     "user": {
      "displayName": "João Vitor Gomes",
      "userId": "05467674276511904604"
     },
     "user_tz": 0
    },
    "id": "ZvPd0luDcU0M"
   },
   "outputs": [],
   "source": [
    "from sklearn.decomposition import PCA # Importar PCA"
   ]
  },
  {
   "cell_type": "markdown",
   "metadata": {
    "id": "eVi5s-pXlTYb"
   },
   "source": [
    "Vamos copiar para uma `df_copia`, para evitar alterar a DataFrame original:"
   ]
  },
  {
   "cell_type": "code",
   "execution_count": 34,
   "metadata": {
    "executionInfo": {
     "elapsed": 83,
     "status": "ok",
     "timestamp": 1746454228002,
     "user": {
      "displayName": "João Vitor Gomes",
      "userId": "05467674276511904604"
     },
     "user_tz": 0
    },
    "id": "JyU7Ai4bb7NX"
   },
   "outputs": [],
   "source": [
    "df_copia = df.copy()"
   ]
  },
  {
   "cell_type": "markdown",
   "metadata": {
    "id": "2SOSlr-TwuzA"
   },
   "source": [
    "O uso de PCA segue a mesma lógica de outros modelos, por esse motivo, vamos criar uma pipeline. O principal argumento do PCA é o `n_components`, que determina o número de dimensões finais."
   ]
  },
  {
   "cell_type": "code",
   "execution_count": 40,
   "metadata": {
    "colab": {
     "base_uri": "https://localhost:8080/",
     "height": 206
    },
    "executionInfo": {
     "elapsed": 1767,
     "status": "ok",
     "timestamp": 1746454235886,
     "user": {
      "displayName": "João Vitor Gomes",
      "userId": "05467674276511904604"
     },
     "user_tz": 0
    },
    "id": "HlQaScCncW5z",
    "outputId": "d81dd41f-567c-422a-d7d8-25abc3023e1f"
   },
   "outputs": [
    {
     "data": {
      "text/html": [
       "<div>\n",
       "<style scoped>\n",
       "    .dataframe tbody tr th:only-of-type {\n",
       "        vertical-align: middle;\n",
       "    }\n",
       "\n",
       "    .dataframe tbody tr th {\n",
       "        vertical-align: top;\n",
       "    }\n",
       "\n",
       "    .dataframe thead th {\n",
       "        text-align: right;\n",
       "    }\n",
       "</style>\n",
       "<table border=\"1\" class=\"dataframe\">\n",
       "  <thead>\n",
       "    <tr style=\"text-align: right;\">\n",
       "      <th></th>\n",
       "      <th>0</th>\n",
       "      <th>1</th>\n",
       "      <th>2</th>\n",
       "      <th>3</th>\n",
       "      <th>4</th>\n",
       "    </tr>\n",
       "  </thead>\n",
       "  <tbody>\n",
       "    <tr>\n",
       "      <th>0</th>\n",
       "      <td>-57.446987</td>\n",
       "      <td>-95.410981</td>\n",
       "      <td>74.301543</td>\n",
       "      <td>12.166782</td>\n",
       "      <td>-7.981816</td>\n",
       "    </tr>\n",
       "    <tr>\n",
       "      <th>1</th>\n",
       "      <td>-16.919430</td>\n",
       "      <td>-0.732470</td>\n",
       "      <td>-64.072900</td>\n",
       "      <td>2.095309</td>\n",
       "      <td>25.426441</td>\n",
       "    </tr>\n",
       "    <tr>\n",
       "      <th>2</th>\n",
       "      <td>-70.345218</td>\n",
       "      <td>19.303327</td>\n",
       "      <td>20.488241</td>\n",
       "      <td>-48.102894</td>\n",
       "      <td>-24.437771</td>\n",
       "    </tr>\n",
       "    <tr>\n",
       "      <th>3</th>\n",
       "      <td>-49.161591</td>\n",
       "      <td>9.227586</td>\n",
       "      <td>61.243770</td>\n",
       "      <td>-37.805744</td>\n",
       "      <td>-1.038912</td>\n",
       "    </tr>\n",
       "    <tr>\n",
       "      <th>4</th>\n",
       "      <td>-18.132534</td>\n",
       "      <td>51.327797</td>\n",
       "      <td>16.598116</td>\n",
       "      <td>17.699203</td>\n",
       "      <td>-26.389116</td>\n",
       "    </tr>\n",
       "  </tbody>\n",
       "</table>\n",
       "</div>"
      ],
      "text/plain": [
       "           0          1          2          3          4\n",
       "0 -57.446987 -95.410981  74.301543  12.166782  -7.981816\n",
       "1 -16.919430  -0.732470 -64.072900   2.095309  25.426441\n",
       "2 -70.345218  19.303327  20.488241 -48.102894 -24.437771\n",
       "3 -49.161591   9.227586  61.243770 -37.805744  -1.038912\n",
       "4 -18.132534  51.327797  16.598116  17.699203 -26.389116"
      ]
     },
     "execution_count": 40,
     "metadata": {},
     "output_type": "execute_result"
    }
   ],
   "source": [
    "pca_5_componentes = PCA(n_components=5, # Reduzir pelo método PCA em 5 dimensões\n",
    "          random_state=123) # Utilizar de random_state para reprodutibilidade\n",
    "\n",
    "pipe_pca_5_componentes = Pipeline([('standard_scaler', scaler), # Scaler para auxiliar\n",
    "                 ('pca', pca_5_componentes)])\n",
    "\n",
    "df_pca_5_componentes = pd.DataFrame(pipe_pca_5_componentes.fit_transform(df_copia)) # Salva a DataFrame transformada\n",
    "\n",
    "df_pca_5_componentes.head()"
   ]
  },
  {
   "cell_type": "markdown",
   "metadata": {
    "id": "o0YHZKf44s6w"
   },
   "source": [
    "Caso $ 0 < {n\\_components} < 1 $, o modelo automaticamente calcula o número de dimensões necessárias para explicar `n_components` da variância.\n",
    "Por exemplo, para explicar 80% da variância dos dados:"
   ]
  },
  {
   "cell_type": "code",
   "execution_count": 39,
   "metadata": {
    "colab": {
     "base_uri": "https://localhost:8080/",
     "height": 256
    },
    "executionInfo": {
     "elapsed": 9567,
     "status": "ok",
     "timestamp": 1746454271970,
     "user": {
      "displayName": "João Vitor Gomes",
      "userId": "05467674276511904604"
     },
     "user_tz": 0
    },
    "id": "TzkSKDHk5A5r",
    "outputId": "33c52dfd-a4bd-44fc-aaed-9c56034777e7"
   },
   "outputs": [
    {
     "data": {
      "text/html": [
       "<div>\n",
       "<style scoped>\n",
       "    .dataframe tbody tr th:only-of-type {\n",
       "        vertical-align: middle;\n",
       "    }\n",
       "\n",
       "    .dataframe tbody tr th {\n",
       "        vertical-align: top;\n",
       "    }\n",
       "\n",
       "    .dataframe thead th {\n",
       "        text-align: right;\n",
       "    }\n",
       "</style>\n",
       "<table border=\"1\" class=\"dataframe\">\n",
       "  <thead>\n",
       "    <tr style=\"text-align: right;\">\n",
       "      <th></th>\n",
       "      <th>0</th>\n",
       "      <th>1</th>\n",
       "      <th>2</th>\n",
       "      <th>3</th>\n",
       "      <th>4</th>\n",
       "      <th>5</th>\n",
       "      <th>6</th>\n",
       "      <th>7</th>\n",
       "      <th>8</th>\n",
       "      <th>9</th>\n",
       "      <th>...</th>\n",
       "      <th>173</th>\n",
       "      <th>174</th>\n",
       "      <th>175</th>\n",
       "      <th>176</th>\n",
       "      <th>177</th>\n",
       "      <th>178</th>\n",
       "      <th>179</th>\n",
       "      <th>180</th>\n",
       "      <th>181</th>\n",
       "      <th>182</th>\n",
       "    </tr>\n",
       "  </thead>\n",
       "  <tbody>\n",
       "    <tr>\n",
       "      <th>0</th>\n",
       "      <td>-57.446987</td>\n",
       "      <td>-95.410981</td>\n",
       "      <td>74.301543</td>\n",
       "      <td>12.166781</td>\n",
       "      <td>-7.981831</td>\n",
       "      <td>-36.157573</td>\n",
       "      <td>-7.668542</td>\n",
       "      <td>19.951444</td>\n",
       "      <td>0.142216</td>\n",
       "      <td>-3.035240</td>\n",
       "      <td>...</td>\n",
       "      <td>-3.494319</td>\n",
       "      <td>-3.425565</td>\n",
       "      <td>-3.554186</td>\n",
       "      <td>-2.602252</td>\n",
       "      <td>-5.895638</td>\n",
       "      <td>-0.907671</td>\n",
       "      <td>9.060001</td>\n",
       "      <td>-3.528184</td>\n",
       "      <td>3.221192</td>\n",
       "      <td>4.024332</td>\n",
       "    </tr>\n",
       "    <tr>\n",
       "      <th>1</th>\n",
       "      <td>-16.919430</td>\n",
       "      <td>-0.732470</td>\n",
       "      <td>-64.072900</td>\n",
       "      <td>2.095308</td>\n",
       "      <td>25.426430</td>\n",
       "      <td>-27.784178</td>\n",
       "      <td>-16.132765</td>\n",
       "      <td>-17.031383</td>\n",
       "      <td>-22.023874</td>\n",
       "      <td>27.923308</td>\n",
       "      <td>...</td>\n",
       "      <td>-4.523526</td>\n",
       "      <td>5.590659</td>\n",
       "      <td>-2.262219</td>\n",
       "      <td>1.414662</td>\n",
       "      <td>1.282629</td>\n",
       "      <td>2.892098</td>\n",
       "      <td>0.280350</td>\n",
       "      <td>-3.223604</td>\n",
       "      <td>-2.275011</td>\n",
       "      <td>-0.251812</td>\n",
       "    </tr>\n",
       "    <tr>\n",
       "      <th>2</th>\n",
       "      <td>-70.345218</td>\n",
       "      <td>19.303327</td>\n",
       "      <td>20.488240</td>\n",
       "      <td>-48.102893</td>\n",
       "      <td>-24.437757</td>\n",
       "      <td>-17.462510</td>\n",
       "      <td>20.706772</td>\n",
       "      <td>-47.626817</td>\n",
       "      <td>-28.647648</td>\n",
       "      <td>12.784676</td>\n",
       "      <td>...</td>\n",
       "      <td>-5.868215</td>\n",
       "      <td>-2.636948</td>\n",
       "      <td>6.090371</td>\n",
       "      <td>4.090740</td>\n",
       "      <td>-10.278097</td>\n",
       "      <td>-8.018019</td>\n",
       "      <td>1.712496</td>\n",
       "      <td>-10.784348</td>\n",
       "      <td>11.152698</td>\n",
       "      <td>-2.664590</td>\n",
       "    </tr>\n",
       "    <tr>\n",
       "      <th>3</th>\n",
       "      <td>-49.161591</td>\n",
       "      <td>9.227586</td>\n",
       "      <td>61.243770</td>\n",
       "      <td>-37.805744</td>\n",
       "      <td>-1.038889</td>\n",
       "      <td>-23.240002</td>\n",
       "      <td>-4.801039</td>\n",
       "      <td>-21.554809</td>\n",
       "      <td>-15.375067</td>\n",
       "      <td>12.881511</td>\n",
       "      <td>...</td>\n",
       "      <td>0.660787</td>\n",
       "      <td>-1.121139</td>\n",
       "      <td>-0.081250</td>\n",
       "      <td>1.166404</td>\n",
       "      <td>-0.886662</td>\n",
       "      <td>-0.025059</td>\n",
       "      <td>5.830756</td>\n",
       "      <td>-1.113062</td>\n",
       "      <td>0.430741</td>\n",
       "      <td>0.092854</td>\n",
       "    </tr>\n",
       "    <tr>\n",
       "      <th>4</th>\n",
       "      <td>-18.132534</td>\n",
       "      <td>51.327797</td>\n",
       "      <td>16.598116</td>\n",
       "      <td>17.699201</td>\n",
       "      <td>-26.389130</td>\n",
       "      <td>1.551573</td>\n",
       "      <td>-6.266101</td>\n",
       "      <td>12.336677</td>\n",
       "      <td>-4.233837</td>\n",
       "      <td>-28.804476</td>\n",
       "      <td>...</td>\n",
       "      <td>-0.375315</td>\n",
       "      <td>1.854333</td>\n",
       "      <td>-0.322975</td>\n",
       "      <td>-1.235294</td>\n",
       "      <td>-6.195407</td>\n",
       "      <td>-2.392793</td>\n",
       "      <td>-3.220275</td>\n",
       "      <td>-5.038342</td>\n",
       "      <td>0.691079</td>\n",
       "      <td>-4.201646</td>\n",
       "    </tr>\n",
       "  </tbody>\n",
       "</table>\n",
       "<p>5 rows × 183 columns</p>\n",
       "</div>"
      ],
      "text/plain": [
       "         0          1          2          3          4          5    \\\n",
       "0 -57.446987 -95.410981  74.301543  12.166781  -7.981831 -36.157573   \n",
       "1 -16.919430  -0.732470 -64.072900   2.095308  25.426430 -27.784178   \n",
       "2 -70.345218  19.303327  20.488240 -48.102893 -24.437757 -17.462510   \n",
       "3 -49.161591   9.227586  61.243770 -37.805744  -1.038889 -23.240002   \n",
       "4 -18.132534  51.327797  16.598116  17.699201 -26.389130   1.551573   \n",
       "\n",
       "         6          7          8          9    ...       173       174  \\\n",
       "0  -7.668542  19.951444   0.142216  -3.035240  ... -3.494319 -3.425565   \n",
       "1 -16.132765 -17.031383 -22.023874  27.923308  ... -4.523526  5.590659   \n",
       "2  20.706772 -47.626817 -28.647648  12.784676  ... -5.868215 -2.636948   \n",
       "3  -4.801039 -21.554809 -15.375067  12.881511  ...  0.660787 -1.121139   \n",
       "4  -6.266101  12.336677  -4.233837 -28.804476  ... -0.375315  1.854333   \n",
       "\n",
       "        175       176        177       178       179        180        181  \\\n",
       "0 -3.554186 -2.602252  -5.895638 -0.907671  9.060001  -3.528184   3.221192   \n",
       "1 -2.262219  1.414662   1.282629  2.892098  0.280350  -3.223604  -2.275011   \n",
       "2  6.090371  4.090740 -10.278097 -8.018019  1.712496 -10.784348  11.152698   \n",
       "3 -0.081250  1.166404  -0.886662 -0.025059  5.830756  -1.113062   0.430741   \n",
       "4 -0.322975 -1.235294  -6.195407 -2.392793 -3.220275  -5.038342   0.691079   \n",
       "\n",
       "        182  \n",
       "0  4.024332  \n",
       "1 -0.251812  \n",
       "2 -2.664590  \n",
       "3  0.092854  \n",
       "4 -4.201646  \n",
       "\n",
       "[5 rows x 183 columns]"
      ]
     },
     "execution_count": 39,
     "metadata": {},
     "output_type": "execute_result"
    }
   ],
   "source": [
    "pca_80_varianca = PCA(n_components=0.8, # Reduzir pelo método PCA até ter 90% das variâncias\n",
    "                      random_state=123) # Utilizar de random_state para reprodutibilidade\n",
    "\n",
    "pipe_pca_80_varianca = Pipeline([('standard_scaler', scaler), # Scaler para auxiliar\n",
    "                                 ('pca', pca_80_varianca)])\n",
    "\n",
    "df_pca_80_varianca = pd.DataFrame(pipe_pca_80_varianca.fit_transform(df_copia)) # Salva a DataFrame transformada\n",
    "\n",
    "df_pca_80_varianca.head()"
   ]
  },
  {
   "cell_type": "markdown",
   "metadata": {
    "id": "i7SddGd7yXpC"
   },
   "source": [
    "Logo, é necessário o seguinte número de variáveis para esplicar 80% da variância:"
   ]
  },
  {
   "cell_type": "code",
   "execution_count": 41,
   "metadata": {
    "colab": {
     "base_uri": "https://localhost:8080/"
    },
    "executionInfo": {
     "elapsed": 17,
     "status": "ok",
     "timestamp": 1746454333771,
     "user": {
      "displayName": "João Vitor Gomes",
      "userId": "05467674276511904604"
     },
     "user_tz": 0
    },
    "id": "B7hbHYpXyigX",
    "outputId": "cc2da993-5661-44bd-c4b7-a73677e42763"
   },
   "outputs": [
    {
     "data": {
      "text/plain": [
       "183"
      ]
     },
     "execution_count": 41,
     "metadata": {},
     "output_type": "execute_result"
    }
   ],
   "source": [
    "len(df_pca_80_varianca.columns)"
   ]
  },
  {
   "cell_type": "markdown",
   "metadata": {
    "id": "j-41X-2Uytvp"
   },
   "source": [
    "O `PCA()` também permite retornar ao espaço original (ou criar um novo para dados no espaço reduzido) através do `.inverse_transform()`"
   ]
  },
  {
   "cell_type": "code",
   "execution_count": 42,
   "metadata": {
    "colab": {
     "base_uri": "https://localhost:8080/",
     "height": 256
    },
    "executionInfo": {
     "elapsed": 517,
     "status": "ok",
     "timestamp": 1746454777013,
     "user": {
      "displayName": "João Vitor Gomes",
      "userId": "05467674276511904604"
     },
     "user_tz": 0
    },
    "id": "h5UdCiwuy5Yt",
    "outputId": "03311739-f3d5-41dd-a5aa-b2c830bd44a5"
   },
   "outputs": [
    {
     "data": {
      "text/html": [
       "<div>\n",
       "<style scoped>\n",
       "    .dataframe tbody tr th:only-of-type {\n",
       "        vertical-align: middle;\n",
       "    }\n",
       "\n",
       "    .dataframe tbody tr th {\n",
       "        vertical-align: top;\n",
       "    }\n",
       "\n",
       "    .dataframe thead th {\n",
       "        text-align: right;\n",
       "    }\n",
       "</style>\n",
       "<table border=\"1\" class=\"dataframe\">\n",
       "  <thead>\n",
       "    <tr style=\"text-align: right;\">\n",
       "      <th></th>\n",
       "      <th>0</th>\n",
       "      <th>1</th>\n",
       "      <th>2</th>\n",
       "      <th>3</th>\n",
       "      <th>4</th>\n",
       "      <th>5</th>\n",
       "      <th>6</th>\n",
       "      <th>7</th>\n",
       "      <th>8</th>\n",
       "      <th>9</th>\n",
       "      <th>...</th>\n",
       "      <th>20521</th>\n",
       "      <th>20522</th>\n",
       "      <th>20523</th>\n",
       "      <th>20524</th>\n",
       "      <th>20525</th>\n",
       "      <th>20526</th>\n",
       "      <th>20527</th>\n",
       "      <th>20528</th>\n",
       "      <th>20529</th>\n",
       "      <th>20530</th>\n",
       "    </tr>\n",
       "  </thead>\n",
       "  <tbody>\n",
       "    <tr>\n",
       "      <th>0</th>\n",
       "      <td>0.097959</td>\n",
       "      <td>1.708975</td>\n",
       "      <td>3.421912</td>\n",
       "      <td>5.853820</td>\n",
       "      <td>10.317558</td>\n",
       "      <td>-8.659284e-15</td>\n",
       "      <td>7.594585</td>\n",
       "      <td>0.426568</td>\n",
       "      <td>0.014766</td>\n",
       "      <td>0.139794</td>\n",
       "      <td>...</td>\n",
       "      <td>4.820803</td>\n",
       "      <td>7.963971</td>\n",
       "      <td>9.589828</td>\n",
       "      <td>6.482212</td>\n",
       "      <td>9.272856</td>\n",
       "      <td>11.968327</td>\n",
       "      <td>9.671142</td>\n",
       "      <td>8.974697</td>\n",
       "      <td>5.519343</td>\n",
       "      <td>-0.270373</td>\n",
       "    </tr>\n",
       "    <tr>\n",
       "      <th>1</th>\n",
       "      <td>0.056733</td>\n",
       "      <td>0.788220</td>\n",
       "      <td>2.051626</td>\n",
       "      <td>7.345002</td>\n",
       "      <td>9.610500</td>\n",
       "      <td>4.895818e-15</td>\n",
       "      <td>7.271408</td>\n",
       "      <td>-0.223188</td>\n",
       "      <td>-0.081279</td>\n",
       "      <td>-0.112710</td>\n",
       "      <td>...</td>\n",
       "      <td>5.176499</td>\n",
       "      <td>7.899945</td>\n",
       "      <td>9.792975</td>\n",
       "      <td>5.351498</td>\n",
       "      <td>9.071337</td>\n",
       "      <td>12.483401</td>\n",
       "      <td>10.173814</td>\n",
       "      <td>9.387638</td>\n",
       "      <td>4.634475</td>\n",
       "      <td>-0.006584</td>\n",
       "    </tr>\n",
       "    <tr>\n",
       "      <th>2</th>\n",
       "      <td>0.029048</td>\n",
       "      <td>3.136428</td>\n",
       "      <td>3.991829</td>\n",
       "      <td>7.163380</td>\n",
       "      <td>9.673460</td>\n",
       "      <td>2.913141e-15</td>\n",
       "      <td>7.528437</td>\n",
       "      <td>0.559574</td>\n",
       "      <td>0.118249</td>\n",
       "      <td>-0.024579</td>\n",
       "      <td>...</td>\n",
       "      <td>5.108840</td>\n",
       "      <td>8.173096</td>\n",
       "      <td>10.849413</td>\n",
       "      <td>4.983121</td>\n",
       "      <td>9.721072</td>\n",
       "      <td>9.393784</td>\n",
       "      <td>9.528904</td>\n",
       "      <td>9.907207</td>\n",
       "      <td>1.807970</td>\n",
       "      <td>0.218044</td>\n",
       "    </tr>\n",
       "    <tr>\n",
       "      <th>3</th>\n",
       "      <td>0.003667</td>\n",
       "      <td>3.734951</td>\n",
       "      <td>4.285568</td>\n",
       "      <td>6.832610</td>\n",
       "      <td>10.309549</td>\n",
       "      <td>-2.515353e-15</td>\n",
       "      <td>7.860082</td>\n",
       "      <td>0.308389</td>\n",
       "      <td>0.076466</td>\n",
       "      <td>-0.008695</td>\n",
       "      <td>...</td>\n",
       "      <td>6.133624</td>\n",
       "      <td>8.966699</td>\n",
       "      <td>10.095806</td>\n",
       "      <td>8.322338</td>\n",
       "      <td>9.562054</td>\n",
       "      <td>11.106875</td>\n",
       "      <td>9.948159</td>\n",
       "      <td>9.571121</td>\n",
       "      <td>3.546361</td>\n",
       "      <td>0.247850</td>\n",
       "    </tr>\n",
       "    <tr>\n",
       "      <th>4</th>\n",
       "      <td>-0.042826</td>\n",
       "      <td>3.508210</td>\n",
       "      <td>3.423694</td>\n",
       "      <td>6.208586</td>\n",
       "      <td>9.807623</td>\n",
       "      <td>-1.447876e-15</td>\n",
       "      <td>6.700805</td>\n",
       "      <td>0.492089</td>\n",
       "      <td>0.045179</td>\n",
       "      <td>0.013808</td>\n",
       "      <td>...</td>\n",
       "      <td>6.059374</td>\n",
       "      <td>8.921851</td>\n",
       "      <td>10.354860</td>\n",
       "      <td>6.117943</td>\n",
       "      <td>9.921676</td>\n",
       "      <td>11.865132</td>\n",
       "      <td>9.405205</td>\n",
       "      <td>10.035814</td>\n",
       "      <td>5.491801</td>\n",
       "      <td>-0.015666</td>\n",
       "    </tr>\n",
       "  </tbody>\n",
       "</table>\n",
       "<p>5 rows × 20531 columns</p>\n",
       "</div>"
      ],
      "text/plain": [
       "      0         1         2         3          4             5         6      \\\n",
       "0  0.097959  1.708975  3.421912  5.853820  10.317558 -8.659284e-15  7.594585   \n",
       "1  0.056733  0.788220  2.051626  7.345002   9.610500  4.895818e-15  7.271408   \n",
       "2  0.029048  3.136428  3.991829  7.163380   9.673460  2.913141e-15  7.528437   \n",
       "3  0.003667  3.734951  4.285568  6.832610  10.309549 -2.515353e-15  7.860082   \n",
       "4 -0.042826  3.508210  3.423694  6.208586   9.807623 -1.447876e-15  6.700805   \n",
       "\n",
       "      7         8         9      ...     20521     20522      20523     20524  \\\n",
       "0  0.426568  0.014766  0.139794  ...  4.820803  7.963971   9.589828  6.482212   \n",
       "1 -0.223188 -0.081279 -0.112710  ...  5.176499  7.899945   9.792975  5.351498   \n",
       "2  0.559574  0.118249 -0.024579  ...  5.108840  8.173096  10.849413  4.983121   \n",
       "3  0.308389  0.076466 -0.008695  ...  6.133624  8.966699  10.095806  8.322338   \n",
       "4  0.492089  0.045179  0.013808  ...  6.059374  8.921851  10.354860  6.117943   \n",
       "\n",
       "      20525      20526      20527      20528     20529     20530  \n",
       "0  9.272856  11.968327   9.671142   8.974697  5.519343 -0.270373  \n",
       "1  9.071337  12.483401  10.173814   9.387638  4.634475 -0.006584  \n",
       "2  9.721072   9.393784   9.528904   9.907207  1.807970  0.218044  \n",
       "3  9.562054  11.106875   9.948159   9.571121  3.546361  0.247850  \n",
       "4  9.921676  11.865132   9.405205  10.035814  5.491801 -0.015666  \n",
       "\n",
       "[5 rows x 20531 columns]"
      ]
     },
     "execution_count": 42,
     "metadata": {},
     "output_type": "execute_result"
    }
   ],
   "source": [
    "df_invertida = pipe_pca_80_varianca.inverse_transform(df_pca_80_varianca) # Retorna ao espaço original\n",
    "df_refeita = pd.DataFrame(df_invertida) # Transforma em dataframe\n",
    "df_refeita.head()"
   ]
  },
  {
   "cell_type": "markdown",
   "metadata": {
    "id": "mLt3jqq_zK4R"
   },
   "source": [
    "Note que a transformação foi _lossy_, perdemos um pouco de informações:"
   ]
  },
  {
   "cell_type": "code",
   "execution_count": 48,
   "metadata": {
    "colab": {
     "base_uri": "https://localhost:8080/",
     "height": 256
    },
    "executionInfo": {
     "elapsed": 50,
     "status": "ok",
     "timestamp": 1746454812997,
     "user": {
      "displayName": "João Vitor Gomes",
      "userId": "05467674276511904604"
     },
     "user_tz": 0
    },
    "id": "hyY32JTyzNkq",
    "outputId": "5390a5ff-a0e3-4a77-c45a-72a8ceef6659"
   },
   "outputs": [
    {
     "data": {
      "text/html": [
       "<div>\n",
       "<style scoped>\n",
       "    .dataframe tbody tr th:only-of-type {\n",
       "        vertical-align: middle;\n",
       "    }\n",
       "\n",
       "    .dataframe tbody tr th {\n",
       "        vertical-align: top;\n",
       "    }\n",
       "\n",
       "    .dataframe thead th {\n",
       "        text-align: right;\n",
       "    }\n",
       "</style>\n",
       "<table border=\"1\" class=\"dataframe\">\n",
       "  <thead>\n",
       "    <tr style=\"text-align: right;\">\n",
       "      <th></th>\n",
       "      <th>gene_0</th>\n",
       "      <th>gene_1</th>\n",
       "      <th>gene_2</th>\n",
       "      <th>gene_3</th>\n",
       "      <th>gene_4</th>\n",
       "      <th>gene_5</th>\n",
       "      <th>gene_6</th>\n",
       "      <th>gene_7</th>\n",
       "      <th>gene_8</th>\n",
       "      <th>gene_9</th>\n",
       "      <th>...</th>\n",
       "      <th>gene_20521</th>\n",
       "      <th>gene_20522</th>\n",
       "      <th>gene_20523</th>\n",
       "      <th>gene_20524</th>\n",
       "      <th>gene_20525</th>\n",
       "      <th>gene_20526</th>\n",
       "      <th>gene_20527</th>\n",
       "      <th>gene_20528</th>\n",
       "      <th>gene_20529</th>\n",
       "      <th>gene_20530</th>\n",
       "    </tr>\n",
       "  </thead>\n",
       "  <tbody>\n",
       "    <tr>\n",
       "      <th>sample_0</th>\n",
       "      <td>0.0</td>\n",
       "      <td>2.017209</td>\n",
       "      <td>3.265527</td>\n",
       "      <td>5.478487</td>\n",
       "      <td>10.431999</td>\n",
       "      <td>0.0</td>\n",
       "      <td>7.175175</td>\n",
       "      <td>0.591871</td>\n",
       "      <td>0.0</td>\n",
       "      <td>0.0</td>\n",
       "      <td>...</td>\n",
       "      <td>4.926711</td>\n",
       "      <td>8.210257</td>\n",
       "      <td>9.723516</td>\n",
       "      <td>7.220030</td>\n",
       "      <td>9.119813</td>\n",
       "      <td>12.003135</td>\n",
       "      <td>9.650743</td>\n",
       "      <td>8.921326</td>\n",
       "      <td>5.286759</td>\n",
       "      <td>0.0</td>\n",
       "    </tr>\n",
       "    <tr>\n",
       "      <th>sample_1</th>\n",
       "      <td>0.0</td>\n",
       "      <td>0.592732</td>\n",
       "      <td>1.588421</td>\n",
       "      <td>7.586157</td>\n",
       "      <td>9.623011</td>\n",
       "      <td>0.0</td>\n",
       "      <td>6.816049</td>\n",
       "      <td>0.000000</td>\n",
       "      <td>0.0</td>\n",
       "      <td>0.0</td>\n",
       "      <td>...</td>\n",
       "      <td>4.593372</td>\n",
       "      <td>7.323865</td>\n",
       "      <td>9.740931</td>\n",
       "      <td>6.256586</td>\n",
       "      <td>8.381612</td>\n",
       "      <td>12.674552</td>\n",
       "      <td>10.517059</td>\n",
       "      <td>9.397854</td>\n",
       "      <td>2.094168</td>\n",
       "      <td>0.0</td>\n",
       "    </tr>\n",
       "    <tr>\n",
       "      <th>sample_2</th>\n",
       "      <td>0.0</td>\n",
       "      <td>3.511759</td>\n",
       "      <td>4.327199</td>\n",
       "      <td>6.881787</td>\n",
       "      <td>9.870730</td>\n",
       "      <td>0.0</td>\n",
       "      <td>6.972130</td>\n",
       "      <td>0.452595</td>\n",
       "      <td>0.0</td>\n",
       "      <td>0.0</td>\n",
       "      <td>...</td>\n",
       "      <td>5.125213</td>\n",
       "      <td>8.127123</td>\n",
       "      <td>10.908640</td>\n",
       "      <td>5.401607</td>\n",
       "      <td>9.911597</td>\n",
       "      <td>9.045255</td>\n",
       "      <td>9.788359</td>\n",
       "      <td>10.090470</td>\n",
       "      <td>1.683023</td>\n",
       "      <td>0.0</td>\n",
       "    </tr>\n",
       "    <tr>\n",
       "      <th>sample_3</th>\n",
       "      <td>0.0</td>\n",
       "      <td>3.663618</td>\n",
       "      <td>4.507649</td>\n",
       "      <td>6.659068</td>\n",
       "      <td>10.196184</td>\n",
       "      <td>0.0</td>\n",
       "      <td>7.843375</td>\n",
       "      <td>0.434882</td>\n",
       "      <td>0.0</td>\n",
       "      <td>0.0</td>\n",
       "      <td>...</td>\n",
       "      <td>6.076566</td>\n",
       "      <td>8.792959</td>\n",
       "      <td>10.141520</td>\n",
       "      <td>8.942805</td>\n",
       "      <td>9.601208</td>\n",
       "      <td>11.392682</td>\n",
       "      <td>9.694814</td>\n",
       "      <td>9.684365</td>\n",
       "      <td>3.292001</td>\n",
       "      <td>0.0</td>\n",
       "    </tr>\n",
       "    <tr>\n",
       "      <th>sample_4</th>\n",
       "      <td>0.0</td>\n",
       "      <td>2.655741</td>\n",
       "      <td>2.821547</td>\n",
       "      <td>6.539454</td>\n",
       "      <td>9.738265</td>\n",
       "      <td>0.0</td>\n",
       "      <td>6.566967</td>\n",
       "      <td>0.360982</td>\n",
       "      <td>0.0</td>\n",
       "      <td>0.0</td>\n",
       "      <td>...</td>\n",
       "      <td>5.996032</td>\n",
       "      <td>8.891425</td>\n",
       "      <td>10.373790</td>\n",
       "      <td>7.181162</td>\n",
       "      <td>9.846910</td>\n",
       "      <td>11.922439</td>\n",
       "      <td>9.217749</td>\n",
       "      <td>9.461191</td>\n",
       "      <td>5.110372</td>\n",
       "      <td>0.0</td>\n",
       "    </tr>\n",
       "  </tbody>\n",
       "</table>\n",
       "<p>5 rows × 20531 columns</p>\n",
       "</div>"
      ],
      "text/plain": [
       "          gene_0    gene_1    gene_2    gene_3     gene_4  gene_5    gene_6  \\\n",
       "sample_0     0.0  2.017209  3.265527  5.478487  10.431999     0.0  7.175175   \n",
       "sample_1     0.0  0.592732  1.588421  7.586157   9.623011     0.0  6.816049   \n",
       "sample_2     0.0  3.511759  4.327199  6.881787   9.870730     0.0  6.972130   \n",
       "sample_3     0.0  3.663618  4.507649  6.659068  10.196184     0.0  7.843375   \n",
       "sample_4     0.0  2.655741  2.821547  6.539454   9.738265     0.0  6.566967   \n",
       "\n",
       "            gene_7  gene_8  gene_9  ...  gene_20521  gene_20522  gene_20523  \\\n",
       "sample_0  0.591871     0.0     0.0  ...    4.926711    8.210257    9.723516   \n",
       "sample_1  0.000000     0.0     0.0  ...    4.593372    7.323865    9.740931   \n",
       "sample_2  0.452595     0.0     0.0  ...    5.125213    8.127123   10.908640   \n",
       "sample_3  0.434882     0.0     0.0  ...    6.076566    8.792959   10.141520   \n",
       "sample_4  0.360982     0.0     0.0  ...    5.996032    8.891425   10.373790   \n",
       "\n",
       "          gene_20524  gene_20525  gene_20526  gene_20527  gene_20528  \\\n",
       "sample_0    7.220030    9.119813   12.003135    9.650743    8.921326   \n",
       "sample_1    6.256586    8.381612   12.674552   10.517059    9.397854   \n",
       "sample_2    5.401607    9.911597    9.045255    9.788359   10.090470   \n",
       "sample_3    8.942805    9.601208   11.392682    9.694814    9.684365   \n",
       "sample_4    7.181162    9.846910   11.922439    9.217749    9.461191   \n",
       "\n",
       "          gene_20529  gene_20530  \n",
       "sample_0    5.286759         0.0  \n",
       "sample_1    2.094168         0.0  \n",
       "sample_2    1.683023         0.0  \n",
       "sample_3    3.292001         0.0  \n",
       "sample_4    5.110372         0.0  \n",
       "\n",
       "[5 rows x 20531 columns]"
      ]
     },
     "execution_count": 48,
     "metadata": {},
     "output_type": "execute_result"
    }
   ],
   "source": [
    "df_copia.head()"
   ]
  },
  {
   "cell_type": "markdown",
   "metadata": {
    "id": "Zsa8ecjs4Pte"
   },
   "source": [
    "Vamos reutilizar a variável `labels`, do modelo original."
   ]
  },
  {
   "cell_type": "code",
   "execution_count": 47,
   "metadata": {
    "colab": {
     "base_uri": "https://localhost:8080/"
    },
    "executionInfo": {
     "elapsed": 33,
     "status": "ok",
     "timestamp": 1746454527208,
     "user": {
      "displayName": "João Vitor Gomes",
      "userId": "05467674276511904604"
     },
     "user_tz": 0
    },
    "id": "7cpZpUCJu9jg",
    "outputId": "2da4f0de-47c2-44a8-98d6-8d3aa18ad604"
   },
   "outputs": [
    {
     "data": {
      "text/plain": [
       "0.5652016878154372"
      ]
     },
     "execution_count": 47,
     "metadata": {},
     "output_type": "execute_result"
    }
   ],
   "source": [
    "silhouette_score(df_pca_5_componentes, labels, metric='cosine')"
   ]
  },
  {
   "cell_type": "markdown",
   "metadata": {
    "id": "VQjxJJKZ5Sco"
   },
   "source": [
    "E ao analizar a `df_pca_80_varianca`:"
   ]
  },
  {
   "cell_type": "code",
   "execution_count": 49,
   "metadata": {
    "colab": {
     "base_uri": "https://localhost:8080/"
    },
    "executionInfo": {
     "elapsed": 33,
     "status": "ok",
     "timestamp": 1746454532058,
     "user": {
      "displayName": "João Vitor Gomes",
      "userId": "05467674276511904604"
     },
     "user_tz": 0
    },
    "id": "WQnCGwA55bKt",
    "outputId": "956857d7-e784-49c8-9004-11a054bfe741"
   },
   "outputs": [
    {
     "data": {
      "text/plain": [
       "0.31391810778251394"
      ]
     },
     "execution_count": 49,
     "metadata": {},
     "output_type": "execute_result"
    }
   ],
   "source": [
    "silhouette_score(df_pca_80_varianca, labels, metric='cosine')"
   ]
  },
  {
   "cell_type": "markdown",
   "metadata": {
    "id": "PUm-FCh65uyu"
   },
   "source": [
    "A diferença de valores retoma a dificuldade em avaliar dados com mais dimensões."
   ]
  },
  {
   "cell_type": "markdown",
   "metadata": {
    "id": "D6ZtEVjj0hIb"
   },
   "source": [
    "#### PCA antes do treinamento"
   ]
  },
  {
   "cell_type": "markdown",
   "metadata": {
    "id": "XQ7Eov6dzxPh"
   },
   "source": [
    "Também é possível usar o `PCA` para treinar um modelo:"
   ]
  },
  {
   "cell_type": "code",
   "execution_count": 50,
   "metadata": {
    "colab": {
     "base_uri": "https://localhost:8080/",
     "height": 197
    },
    "executionInfo": {
     "elapsed": 7817,
     "status": "ok",
     "timestamp": 1746455130854,
     "user": {
      "displayName": "João Vitor Gomes",
      "userId": "05467674276511904604"
     },
     "user_tz": 0
    },
    "id": "8tqDbYF-z1VQ",
    "outputId": "02d51294-c286-4e1c-f89f-e720de19f897"
   },
   "outputs": [
    {
     "data": {
      "text/html": [
       "<style>#sk-container-id-2 {\n",
       "  /* Definition of color scheme common for light and dark mode */\n",
       "  --sklearn-color-text: #000;\n",
       "  --sklearn-color-text-muted: #666;\n",
       "  --sklearn-color-line: gray;\n",
       "  /* Definition of color scheme for unfitted estimators */\n",
       "  --sklearn-color-unfitted-level-0: #fff5e6;\n",
       "  --sklearn-color-unfitted-level-1: #f6e4d2;\n",
       "  --sklearn-color-unfitted-level-2: #ffe0b3;\n",
       "  --sklearn-color-unfitted-level-3: chocolate;\n",
       "  /* Definition of color scheme for fitted estimators */\n",
       "  --sklearn-color-fitted-level-0: #f0f8ff;\n",
       "  --sklearn-color-fitted-level-1: #d4ebff;\n",
       "  --sklearn-color-fitted-level-2: #b3dbfd;\n",
       "  --sklearn-color-fitted-level-3: cornflowerblue;\n",
       "\n",
       "  /* Specific color for light theme */\n",
       "  --sklearn-color-text-on-default-background: var(--sg-text-color, var(--theme-code-foreground, var(--jp-content-font-color1, black)));\n",
       "  --sklearn-color-background: var(--sg-background-color, var(--theme-background, var(--jp-layout-color0, white)));\n",
       "  --sklearn-color-border-box: var(--sg-text-color, var(--theme-code-foreground, var(--jp-content-font-color1, black)));\n",
       "  --sklearn-color-icon: #696969;\n",
       "\n",
       "  @media (prefers-color-scheme: dark) {\n",
       "    /* Redefinition of color scheme for dark theme */\n",
       "    --sklearn-color-text-on-default-background: var(--sg-text-color, var(--theme-code-foreground, var(--jp-content-font-color1, white)));\n",
       "    --sklearn-color-background: var(--sg-background-color, var(--theme-background, var(--jp-layout-color0, #111)));\n",
       "    --sklearn-color-border-box: var(--sg-text-color, var(--theme-code-foreground, var(--jp-content-font-color1, white)));\n",
       "    --sklearn-color-icon: #878787;\n",
       "  }\n",
       "}\n",
       "\n",
       "#sk-container-id-2 {\n",
       "  color: var(--sklearn-color-text);\n",
       "}\n",
       "\n",
       "#sk-container-id-2 pre {\n",
       "  padding: 0;\n",
       "}\n",
       "\n",
       "#sk-container-id-2 input.sk-hidden--visually {\n",
       "  border: 0;\n",
       "  clip: rect(1px 1px 1px 1px);\n",
       "  clip: rect(1px, 1px, 1px, 1px);\n",
       "  height: 1px;\n",
       "  margin: -1px;\n",
       "  overflow: hidden;\n",
       "  padding: 0;\n",
       "  position: absolute;\n",
       "  width: 1px;\n",
       "}\n",
       "\n",
       "#sk-container-id-2 div.sk-dashed-wrapped {\n",
       "  border: 1px dashed var(--sklearn-color-line);\n",
       "  margin: 0 0.4em 0.5em 0.4em;\n",
       "  box-sizing: border-box;\n",
       "  padding-bottom: 0.4em;\n",
       "  background-color: var(--sklearn-color-background);\n",
       "}\n",
       "\n",
       "#sk-container-id-2 div.sk-container {\n",
       "  /* jupyter's `normalize.less` sets `[hidden] { display: none; }`\n",
       "     but bootstrap.min.css set `[hidden] { display: none !important; }`\n",
       "     so we also need the `!important` here to be able to override the\n",
       "     default hidden behavior on the sphinx rendered scikit-learn.org.\n",
       "     See: https://github.com/scikit-learn/scikit-learn/issues/21755 */\n",
       "  display: inline-block !important;\n",
       "  position: relative;\n",
       "}\n",
       "\n",
       "#sk-container-id-2 div.sk-text-repr-fallback {\n",
       "  display: none;\n",
       "}\n",
       "\n",
       "div.sk-parallel-item,\n",
       "div.sk-serial,\n",
       "div.sk-item {\n",
       "  /* draw centered vertical line to link estimators */\n",
       "  background-image: linear-gradient(var(--sklearn-color-text-on-default-background), var(--sklearn-color-text-on-default-background));\n",
       "  background-size: 2px 100%;\n",
       "  background-repeat: no-repeat;\n",
       "  background-position: center center;\n",
       "}\n",
       "\n",
       "/* Parallel-specific style estimator block */\n",
       "\n",
       "#sk-container-id-2 div.sk-parallel-item::after {\n",
       "  content: \"\";\n",
       "  width: 100%;\n",
       "  border-bottom: 2px solid var(--sklearn-color-text-on-default-background);\n",
       "  flex-grow: 1;\n",
       "}\n",
       "\n",
       "#sk-container-id-2 div.sk-parallel {\n",
       "  display: flex;\n",
       "  align-items: stretch;\n",
       "  justify-content: center;\n",
       "  background-color: var(--sklearn-color-background);\n",
       "  position: relative;\n",
       "}\n",
       "\n",
       "#sk-container-id-2 div.sk-parallel-item {\n",
       "  display: flex;\n",
       "  flex-direction: column;\n",
       "}\n",
       "\n",
       "#sk-container-id-2 div.sk-parallel-item:first-child::after {\n",
       "  align-self: flex-end;\n",
       "  width: 50%;\n",
       "}\n",
       "\n",
       "#sk-container-id-2 div.sk-parallel-item:last-child::after {\n",
       "  align-self: flex-start;\n",
       "  width: 50%;\n",
       "}\n",
       "\n",
       "#sk-container-id-2 div.sk-parallel-item:only-child::after {\n",
       "  width: 0;\n",
       "}\n",
       "\n",
       "/* Serial-specific style estimator block */\n",
       "\n",
       "#sk-container-id-2 div.sk-serial {\n",
       "  display: flex;\n",
       "  flex-direction: column;\n",
       "  align-items: center;\n",
       "  background-color: var(--sklearn-color-background);\n",
       "  padding-right: 1em;\n",
       "  padding-left: 1em;\n",
       "}\n",
       "\n",
       "\n",
       "/* Toggleable style: style used for estimator/Pipeline/ColumnTransformer box that is\n",
       "clickable and can be expanded/collapsed.\n",
       "- Pipeline and ColumnTransformer use this feature and define the default style\n",
       "- Estimators will overwrite some part of the style using the `sk-estimator` class\n",
       "*/\n",
       "\n",
       "/* Pipeline and ColumnTransformer style (default) */\n",
       "\n",
       "#sk-container-id-2 div.sk-toggleable {\n",
       "  /* Default theme specific background. It is overwritten whether we have a\n",
       "  specific estimator or a Pipeline/ColumnTransformer */\n",
       "  background-color: var(--sklearn-color-background);\n",
       "}\n",
       "\n",
       "/* Toggleable label */\n",
       "#sk-container-id-2 label.sk-toggleable__label {\n",
       "  cursor: pointer;\n",
       "  display: flex;\n",
       "  width: 100%;\n",
       "  margin-bottom: 0;\n",
       "  padding: 0.5em;\n",
       "  box-sizing: border-box;\n",
       "  text-align: center;\n",
       "  align-items: start;\n",
       "  justify-content: space-between;\n",
       "  gap: 0.5em;\n",
       "}\n",
       "\n",
       "#sk-container-id-2 label.sk-toggleable__label .caption {\n",
       "  font-size: 0.6rem;\n",
       "  font-weight: lighter;\n",
       "  color: var(--sklearn-color-text-muted);\n",
       "}\n",
       "\n",
       "#sk-container-id-2 label.sk-toggleable__label-arrow:before {\n",
       "  /* Arrow on the left of the label */\n",
       "  content: \"▸\";\n",
       "  float: left;\n",
       "  margin-right: 0.25em;\n",
       "  color: var(--sklearn-color-icon);\n",
       "}\n",
       "\n",
       "#sk-container-id-2 label.sk-toggleable__label-arrow:hover:before {\n",
       "  color: var(--sklearn-color-text);\n",
       "}\n",
       "\n",
       "/* Toggleable content - dropdown */\n",
       "\n",
       "#sk-container-id-2 div.sk-toggleable__content {\n",
       "  max-height: 0;\n",
       "  max-width: 0;\n",
       "  overflow: hidden;\n",
       "  text-align: left;\n",
       "  /* unfitted */\n",
       "  background-color: var(--sklearn-color-unfitted-level-0);\n",
       "}\n",
       "\n",
       "#sk-container-id-2 div.sk-toggleable__content.fitted {\n",
       "  /* fitted */\n",
       "  background-color: var(--sklearn-color-fitted-level-0);\n",
       "}\n",
       "\n",
       "#sk-container-id-2 div.sk-toggleable__content pre {\n",
       "  margin: 0.2em;\n",
       "  border-radius: 0.25em;\n",
       "  color: var(--sklearn-color-text);\n",
       "  /* unfitted */\n",
       "  background-color: var(--sklearn-color-unfitted-level-0);\n",
       "}\n",
       "\n",
       "#sk-container-id-2 div.sk-toggleable__content.fitted pre {\n",
       "  /* unfitted */\n",
       "  background-color: var(--sklearn-color-fitted-level-0);\n",
       "}\n",
       "\n",
       "#sk-container-id-2 input.sk-toggleable__control:checked~div.sk-toggleable__content {\n",
       "  /* Expand drop-down */\n",
       "  max-height: 200px;\n",
       "  max-width: 100%;\n",
       "  overflow: auto;\n",
       "}\n",
       "\n",
       "#sk-container-id-2 input.sk-toggleable__control:checked~label.sk-toggleable__label-arrow:before {\n",
       "  content: \"▾\";\n",
       "}\n",
       "\n",
       "/* Pipeline/ColumnTransformer-specific style */\n",
       "\n",
       "#sk-container-id-2 div.sk-label input.sk-toggleable__control:checked~label.sk-toggleable__label {\n",
       "  color: var(--sklearn-color-text);\n",
       "  background-color: var(--sklearn-color-unfitted-level-2);\n",
       "}\n",
       "\n",
       "#sk-container-id-2 div.sk-label.fitted input.sk-toggleable__control:checked~label.sk-toggleable__label {\n",
       "  background-color: var(--sklearn-color-fitted-level-2);\n",
       "}\n",
       "\n",
       "/* Estimator-specific style */\n",
       "\n",
       "/* Colorize estimator box */\n",
       "#sk-container-id-2 div.sk-estimator input.sk-toggleable__control:checked~label.sk-toggleable__label {\n",
       "  /* unfitted */\n",
       "  background-color: var(--sklearn-color-unfitted-level-2);\n",
       "}\n",
       "\n",
       "#sk-container-id-2 div.sk-estimator.fitted input.sk-toggleable__control:checked~label.sk-toggleable__label {\n",
       "  /* fitted */\n",
       "  background-color: var(--sklearn-color-fitted-level-2);\n",
       "}\n",
       "\n",
       "#sk-container-id-2 div.sk-label label.sk-toggleable__label,\n",
       "#sk-container-id-2 div.sk-label label {\n",
       "  /* The background is the default theme color */\n",
       "  color: var(--sklearn-color-text-on-default-background);\n",
       "}\n",
       "\n",
       "/* On hover, darken the color of the background */\n",
       "#sk-container-id-2 div.sk-label:hover label.sk-toggleable__label {\n",
       "  color: var(--sklearn-color-text);\n",
       "  background-color: var(--sklearn-color-unfitted-level-2);\n",
       "}\n",
       "\n",
       "/* Label box, darken color on hover, fitted */\n",
       "#sk-container-id-2 div.sk-label.fitted:hover label.sk-toggleable__label.fitted {\n",
       "  color: var(--sklearn-color-text);\n",
       "  background-color: var(--sklearn-color-fitted-level-2);\n",
       "}\n",
       "\n",
       "/* Estimator label */\n",
       "\n",
       "#sk-container-id-2 div.sk-label label {\n",
       "  font-family: monospace;\n",
       "  font-weight: bold;\n",
       "  display: inline-block;\n",
       "  line-height: 1.2em;\n",
       "}\n",
       "\n",
       "#sk-container-id-2 div.sk-label-container {\n",
       "  text-align: center;\n",
       "}\n",
       "\n",
       "/* Estimator-specific */\n",
       "#sk-container-id-2 div.sk-estimator {\n",
       "  font-family: monospace;\n",
       "  border: 1px dotted var(--sklearn-color-border-box);\n",
       "  border-radius: 0.25em;\n",
       "  box-sizing: border-box;\n",
       "  margin-bottom: 0.5em;\n",
       "  /* unfitted */\n",
       "  background-color: var(--sklearn-color-unfitted-level-0);\n",
       "}\n",
       "\n",
       "#sk-container-id-2 div.sk-estimator.fitted {\n",
       "  /* fitted */\n",
       "  background-color: var(--sklearn-color-fitted-level-0);\n",
       "}\n",
       "\n",
       "/* on hover */\n",
       "#sk-container-id-2 div.sk-estimator:hover {\n",
       "  /* unfitted */\n",
       "  background-color: var(--sklearn-color-unfitted-level-2);\n",
       "}\n",
       "\n",
       "#sk-container-id-2 div.sk-estimator.fitted:hover {\n",
       "  /* fitted */\n",
       "  background-color: var(--sklearn-color-fitted-level-2);\n",
       "}\n",
       "\n",
       "/* Specification for estimator info (e.g. \"i\" and \"?\") */\n",
       "\n",
       "/* Common style for \"i\" and \"?\" */\n",
       "\n",
       ".sk-estimator-doc-link,\n",
       "a:link.sk-estimator-doc-link,\n",
       "a:visited.sk-estimator-doc-link {\n",
       "  float: right;\n",
       "  font-size: smaller;\n",
       "  line-height: 1em;\n",
       "  font-family: monospace;\n",
       "  background-color: var(--sklearn-color-background);\n",
       "  border-radius: 1em;\n",
       "  height: 1em;\n",
       "  width: 1em;\n",
       "  text-decoration: none !important;\n",
       "  margin-left: 0.5em;\n",
       "  text-align: center;\n",
       "  /* unfitted */\n",
       "  border: var(--sklearn-color-unfitted-level-1) 1pt solid;\n",
       "  color: var(--sklearn-color-unfitted-level-1);\n",
       "}\n",
       "\n",
       ".sk-estimator-doc-link.fitted,\n",
       "a:link.sk-estimator-doc-link.fitted,\n",
       "a:visited.sk-estimator-doc-link.fitted {\n",
       "  /* fitted */\n",
       "  border: var(--sklearn-color-fitted-level-1) 1pt solid;\n",
       "  color: var(--sklearn-color-fitted-level-1);\n",
       "}\n",
       "\n",
       "/* On hover */\n",
       "div.sk-estimator:hover .sk-estimator-doc-link:hover,\n",
       ".sk-estimator-doc-link:hover,\n",
       "div.sk-label-container:hover .sk-estimator-doc-link:hover,\n",
       ".sk-estimator-doc-link:hover {\n",
       "  /* unfitted */\n",
       "  background-color: var(--sklearn-color-unfitted-level-3);\n",
       "  color: var(--sklearn-color-background);\n",
       "  text-decoration: none;\n",
       "}\n",
       "\n",
       "div.sk-estimator.fitted:hover .sk-estimator-doc-link.fitted:hover,\n",
       ".sk-estimator-doc-link.fitted:hover,\n",
       "div.sk-label-container:hover .sk-estimator-doc-link.fitted:hover,\n",
       ".sk-estimator-doc-link.fitted:hover {\n",
       "  /* fitted */\n",
       "  background-color: var(--sklearn-color-fitted-level-3);\n",
       "  color: var(--sklearn-color-background);\n",
       "  text-decoration: none;\n",
       "}\n",
       "\n",
       "/* Span, style for the box shown on hovering the info icon */\n",
       ".sk-estimator-doc-link span {\n",
       "  display: none;\n",
       "  z-index: 9999;\n",
       "  position: relative;\n",
       "  font-weight: normal;\n",
       "  right: .2ex;\n",
       "  padding: .5ex;\n",
       "  margin: .5ex;\n",
       "  width: min-content;\n",
       "  min-width: 20ex;\n",
       "  max-width: 50ex;\n",
       "  color: var(--sklearn-color-text);\n",
       "  box-shadow: 2pt 2pt 4pt #999;\n",
       "  /* unfitted */\n",
       "  background: var(--sklearn-color-unfitted-level-0);\n",
       "  border: .5pt solid var(--sklearn-color-unfitted-level-3);\n",
       "}\n",
       "\n",
       ".sk-estimator-doc-link.fitted span {\n",
       "  /* fitted */\n",
       "  background: var(--sklearn-color-fitted-level-0);\n",
       "  border: var(--sklearn-color-fitted-level-3);\n",
       "}\n",
       "\n",
       ".sk-estimator-doc-link:hover span {\n",
       "  display: block;\n",
       "}\n",
       "\n",
       "/* \"?\"-specific style due to the `<a>` HTML tag */\n",
       "\n",
       "#sk-container-id-2 a.estimator_doc_link {\n",
       "  float: right;\n",
       "  font-size: 1rem;\n",
       "  line-height: 1em;\n",
       "  font-family: monospace;\n",
       "  background-color: var(--sklearn-color-background);\n",
       "  border-radius: 1rem;\n",
       "  height: 1rem;\n",
       "  width: 1rem;\n",
       "  text-decoration: none;\n",
       "  /* unfitted */\n",
       "  color: var(--sklearn-color-unfitted-level-1);\n",
       "  border: var(--sklearn-color-unfitted-level-1) 1pt solid;\n",
       "}\n",
       "\n",
       "#sk-container-id-2 a.estimator_doc_link.fitted {\n",
       "  /* fitted */\n",
       "  border: var(--sklearn-color-fitted-level-1) 1pt solid;\n",
       "  color: var(--sklearn-color-fitted-level-1);\n",
       "}\n",
       "\n",
       "/* On hover */\n",
       "#sk-container-id-2 a.estimator_doc_link:hover {\n",
       "  /* unfitted */\n",
       "  background-color: var(--sklearn-color-unfitted-level-3);\n",
       "  color: var(--sklearn-color-background);\n",
       "  text-decoration: none;\n",
       "}\n",
       "\n",
       "#sk-container-id-2 a.estimator_doc_link.fitted:hover {\n",
       "  /* fitted */\n",
       "  background-color: var(--sklearn-color-fitted-level-3);\n",
       "}\n",
       "</style><div id=\"sk-container-id-2\" class=\"sk-top-container\"><div class=\"sk-text-repr-fallback\"><pre>Pipeline(steps=[(&#x27;scaler&#x27;, StandardScaler()), (&#x27;pca&#x27;, PCA(n_components=0.8)),\n",
       "                (&#x27;kmeans&#x27;, KMeans(n_clusters=5))])</pre><b>In a Jupyter environment, please rerun this cell to show the HTML representation or trust the notebook. <br />On GitHub, the HTML representation is unable to render, please try loading this page with nbviewer.org.</b></div><div class=\"sk-container\" hidden><div class=\"sk-item sk-dashed-wrapped\"><div class=\"sk-label-container\"><div class=\"sk-label fitted sk-toggleable\"><input class=\"sk-toggleable__control sk-hidden--visually\" id=\"sk-estimator-id-4\" type=\"checkbox\" ><label for=\"sk-estimator-id-4\" class=\"sk-toggleable__label fitted sk-toggleable__label-arrow\"><div><div>Pipeline</div></div><div><a class=\"sk-estimator-doc-link fitted\" rel=\"noreferrer\" target=\"_blank\" href=\"https://scikit-learn.org/1.6/modules/generated/sklearn.pipeline.Pipeline.html\">?<span>Documentation for Pipeline</span></a><span class=\"sk-estimator-doc-link fitted\">i<span>Fitted</span></span></div></label><div class=\"sk-toggleable__content fitted\"><pre>Pipeline(steps=[(&#x27;scaler&#x27;, StandardScaler()), (&#x27;pca&#x27;, PCA(n_components=0.8)),\n",
       "                (&#x27;kmeans&#x27;, KMeans(n_clusters=5))])</pre></div> </div></div><div class=\"sk-serial\"><div class=\"sk-item\"><div class=\"sk-estimator fitted sk-toggleable\"><input class=\"sk-toggleable__control sk-hidden--visually\" id=\"sk-estimator-id-5\" type=\"checkbox\" ><label for=\"sk-estimator-id-5\" class=\"sk-toggleable__label fitted sk-toggleable__label-arrow\"><div><div>StandardScaler</div></div><div><a class=\"sk-estimator-doc-link fitted\" rel=\"noreferrer\" target=\"_blank\" href=\"https://scikit-learn.org/1.6/modules/generated/sklearn.preprocessing.StandardScaler.html\">?<span>Documentation for StandardScaler</span></a></div></label><div class=\"sk-toggleable__content fitted\"><pre>StandardScaler()</pre></div> </div></div><div class=\"sk-item\"><div class=\"sk-estimator fitted sk-toggleable\"><input class=\"sk-toggleable__control sk-hidden--visually\" id=\"sk-estimator-id-6\" type=\"checkbox\" ><label for=\"sk-estimator-id-6\" class=\"sk-toggleable__label fitted sk-toggleable__label-arrow\"><div><div>PCA</div></div><div><a class=\"sk-estimator-doc-link fitted\" rel=\"noreferrer\" target=\"_blank\" href=\"https://scikit-learn.org/1.6/modules/generated/sklearn.decomposition.PCA.html\">?<span>Documentation for PCA</span></a></div></label><div class=\"sk-toggleable__content fitted\"><pre>PCA(n_components=0.8)</pre></div> </div></div><div class=\"sk-item\"><div class=\"sk-estimator fitted sk-toggleable\"><input class=\"sk-toggleable__control sk-hidden--visually\" id=\"sk-estimator-id-7\" type=\"checkbox\" ><label for=\"sk-estimator-id-7\" class=\"sk-toggleable__label fitted sk-toggleable__label-arrow\"><div><div>KMeans</div></div><div><a class=\"sk-estimator-doc-link fitted\" rel=\"noreferrer\" target=\"_blank\" href=\"https://scikit-learn.org/1.6/modules/generated/sklearn.cluster.KMeans.html\">?<span>Documentation for KMeans</span></a></div></label><div class=\"sk-toggleable__content fitted\"><pre>KMeans(n_clusters=5)</pre></div> </div></div></div></div></div></div>"
      ],
      "text/plain": [
       "Pipeline(steps=[('scaler', StandardScaler()), ('pca', PCA(n_components=0.8)),\n",
       "                ('kmeans', KMeans(n_clusters=5))])"
      ]
     },
     "execution_count": 50,
     "metadata": {},
     "output_type": "execute_result"
    }
   ],
   "source": [
    "model = KMeans(n_clusters=5) # Cria o modelo KMeans com 5 clusters\n",
    "pipe_pca_treino = Pipeline([('scaler', scaler), # Normaliza os dados\n",
    "              ('pca', PCA(n_components=0.8)), # Usar o PCA\n",
    "                       ('kmeans', model)]) # Usa o kmeans\n",
    "\n",
    "pipe_pca_treino.fit(df_copia) # Treina o modelo"
   ]
  },
  {
   "cell_type": "markdown",
   "metadata": {
    "id": "HBzXgdcl1D83"
   },
   "source": [
    "É necessário aplicar a transformação de `scaler -> pca` para usarmos o `silhouette_score`"
   ]
  },
  {
   "cell_type": "code",
   "execution_count": 51,
   "metadata": {
    "colab": {
     "base_uri": "https://localhost:8080/",
     "height": 157
    },
    "executionInfo": {
     "elapsed": 0,
     "status": "ok",
     "timestamp": 1746455136504,
     "user": {
      "displayName": "João Vitor Gomes",
      "userId": "05467674276511904604"
     },
     "user_tz": 0
    },
    "id": "LkCSNjZL1C32",
    "outputId": "db008aac-d87d-4b6d-b7e7-e93d28aa5f0a"
   },
   "outputs": [
    {
     "data": {
      "text/html": [
       "<style>#sk-container-id-3 {\n",
       "  /* Definition of color scheme common for light and dark mode */\n",
       "  --sklearn-color-text: #000;\n",
       "  --sklearn-color-text-muted: #666;\n",
       "  --sklearn-color-line: gray;\n",
       "  /* Definition of color scheme for unfitted estimators */\n",
       "  --sklearn-color-unfitted-level-0: #fff5e6;\n",
       "  --sklearn-color-unfitted-level-1: #f6e4d2;\n",
       "  --sklearn-color-unfitted-level-2: #ffe0b3;\n",
       "  --sklearn-color-unfitted-level-3: chocolate;\n",
       "  /* Definition of color scheme for fitted estimators */\n",
       "  --sklearn-color-fitted-level-0: #f0f8ff;\n",
       "  --sklearn-color-fitted-level-1: #d4ebff;\n",
       "  --sklearn-color-fitted-level-2: #b3dbfd;\n",
       "  --sklearn-color-fitted-level-3: cornflowerblue;\n",
       "\n",
       "  /* Specific color for light theme */\n",
       "  --sklearn-color-text-on-default-background: var(--sg-text-color, var(--theme-code-foreground, var(--jp-content-font-color1, black)));\n",
       "  --sklearn-color-background: var(--sg-background-color, var(--theme-background, var(--jp-layout-color0, white)));\n",
       "  --sklearn-color-border-box: var(--sg-text-color, var(--theme-code-foreground, var(--jp-content-font-color1, black)));\n",
       "  --sklearn-color-icon: #696969;\n",
       "\n",
       "  @media (prefers-color-scheme: dark) {\n",
       "    /* Redefinition of color scheme for dark theme */\n",
       "    --sklearn-color-text-on-default-background: var(--sg-text-color, var(--theme-code-foreground, var(--jp-content-font-color1, white)));\n",
       "    --sklearn-color-background: var(--sg-background-color, var(--theme-background, var(--jp-layout-color0, #111)));\n",
       "    --sklearn-color-border-box: var(--sg-text-color, var(--theme-code-foreground, var(--jp-content-font-color1, white)));\n",
       "    --sklearn-color-icon: #878787;\n",
       "  }\n",
       "}\n",
       "\n",
       "#sk-container-id-3 {\n",
       "  color: var(--sklearn-color-text);\n",
       "}\n",
       "\n",
       "#sk-container-id-3 pre {\n",
       "  padding: 0;\n",
       "}\n",
       "\n",
       "#sk-container-id-3 input.sk-hidden--visually {\n",
       "  border: 0;\n",
       "  clip: rect(1px 1px 1px 1px);\n",
       "  clip: rect(1px, 1px, 1px, 1px);\n",
       "  height: 1px;\n",
       "  margin: -1px;\n",
       "  overflow: hidden;\n",
       "  padding: 0;\n",
       "  position: absolute;\n",
       "  width: 1px;\n",
       "}\n",
       "\n",
       "#sk-container-id-3 div.sk-dashed-wrapped {\n",
       "  border: 1px dashed var(--sklearn-color-line);\n",
       "  margin: 0 0.4em 0.5em 0.4em;\n",
       "  box-sizing: border-box;\n",
       "  padding-bottom: 0.4em;\n",
       "  background-color: var(--sklearn-color-background);\n",
       "}\n",
       "\n",
       "#sk-container-id-3 div.sk-container {\n",
       "  /* jupyter's `normalize.less` sets `[hidden] { display: none; }`\n",
       "     but bootstrap.min.css set `[hidden] { display: none !important; }`\n",
       "     so we also need the `!important` here to be able to override the\n",
       "     default hidden behavior on the sphinx rendered scikit-learn.org.\n",
       "     See: https://github.com/scikit-learn/scikit-learn/issues/21755 */\n",
       "  display: inline-block !important;\n",
       "  position: relative;\n",
       "}\n",
       "\n",
       "#sk-container-id-3 div.sk-text-repr-fallback {\n",
       "  display: none;\n",
       "}\n",
       "\n",
       "div.sk-parallel-item,\n",
       "div.sk-serial,\n",
       "div.sk-item {\n",
       "  /* draw centered vertical line to link estimators */\n",
       "  background-image: linear-gradient(var(--sklearn-color-text-on-default-background), var(--sklearn-color-text-on-default-background));\n",
       "  background-size: 2px 100%;\n",
       "  background-repeat: no-repeat;\n",
       "  background-position: center center;\n",
       "}\n",
       "\n",
       "/* Parallel-specific style estimator block */\n",
       "\n",
       "#sk-container-id-3 div.sk-parallel-item::after {\n",
       "  content: \"\";\n",
       "  width: 100%;\n",
       "  border-bottom: 2px solid var(--sklearn-color-text-on-default-background);\n",
       "  flex-grow: 1;\n",
       "}\n",
       "\n",
       "#sk-container-id-3 div.sk-parallel {\n",
       "  display: flex;\n",
       "  align-items: stretch;\n",
       "  justify-content: center;\n",
       "  background-color: var(--sklearn-color-background);\n",
       "  position: relative;\n",
       "}\n",
       "\n",
       "#sk-container-id-3 div.sk-parallel-item {\n",
       "  display: flex;\n",
       "  flex-direction: column;\n",
       "}\n",
       "\n",
       "#sk-container-id-3 div.sk-parallel-item:first-child::after {\n",
       "  align-self: flex-end;\n",
       "  width: 50%;\n",
       "}\n",
       "\n",
       "#sk-container-id-3 div.sk-parallel-item:last-child::after {\n",
       "  align-self: flex-start;\n",
       "  width: 50%;\n",
       "}\n",
       "\n",
       "#sk-container-id-3 div.sk-parallel-item:only-child::after {\n",
       "  width: 0;\n",
       "}\n",
       "\n",
       "/* Serial-specific style estimator block */\n",
       "\n",
       "#sk-container-id-3 div.sk-serial {\n",
       "  display: flex;\n",
       "  flex-direction: column;\n",
       "  align-items: center;\n",
       "  background-color: var(--sklearn-color-background);\n",
       "  padding-right: 1em;\n",
       "  padding-left: 1em;\n",
       "}\n",
       "\n",
       "\n",
       "/* Toggleable style: style used for estimator/Pipeline/ColumnTransformer box that is\n",
       "clickable and can be expanded/collapsed.\n",
       "- Pipeline and ColumnTransformer use this feature and define the default style\n",
       "- Estimators will overwrite some part of the style using the `sk-estimator` class\n",
       "*/\n",
       "\n",
       "/* Pipeline and ColumnTransformer style (default) */\n",
       "\n",
       "#sk-container-id-3 div.sk-toggleable {\n",
       "  /* Default theme specific background. It is overwritten whether we have a\n",
       "  specific estimator or a Pipeline/ColumnTransformer */\n",
       "  background-color: var(--sklearn-color-background);\n",
       "}\n",
       "\n",
       "/* Toggleable label */\n",
       "#sk-container-id-3 label.sk-toggleable__label {\n",
       "  cursor: pointer;\n",
       "  display: flex;\n",
       "  width: 100%;\n",
       "  margin-bottom: 0;\n",
       "  padding: 0.5em;\n",
       "  box-sizing: border-box;\n",
       "  text-align: center;\n",
       "  align-items: start;\n",
       "  justify-content: space-between;\n",
       "  gap: 0.5em;\n",
       "}\n",
       "\n",
       "#sk-container-id-3 label.sk-toggleable__label .caption {\n",
       "  font-size: 0.6rem;\n",
       "  font-weight: lighter;\n",
       "  color: var(--sklearn-color-text-muted);\n",
       "}\n",
       "\n",
       "#sk-container-id-3 label.sk-toggleable__label-arrow:before {\n",
       "  /* Arrow on the left of the label */\n",
       "  content: \"▸\";\n",
       "  float: left;\n",
       "  margin-right: 0.25em;\n",
       "  color: var(--sklearn-color-icon);\n",
       "}\n",
       "\n",
       "#sk-container-id-3 label.sk-toggleable__label-arrow:hover:before {\n",
       "  color: var(--sklearn-color-text);\n",
       "}\n",
       "\n",
       "/* Toggleable content - dropdown */\n",
       "\n",
       "#sk-container-id-3 div.sk-toggleable__content {\n",
       "  max-height: 0;\n",
       "  max-width: 0;\n",
       "  overflow: hidden;\n",
       "  text-align: left;\n",
       "  /* unfitted */\n",
       "  background-color: var(--sklearn-color-unfitted-level-0);\n",
       "}\n",
       "\n",
       "#sk-container-id-3 div.sk-toggleable__content.fitted {\n",
       "  /* fitted */\n",
       "  background-color: var(--sklearn-color-fitted-level-0);\n",
       "}\n",
       "\n",
       "#sk-container-id-3 div.sk-toggleable__content pre {\n",
       "  margin: 0.2em;\n",
       "  border-radius: 0.25em;\n",
       "  color: var(--sklearn-color-text);\n",
       "  /* unfitted */\n",
       "  background-color: var(--sklearn-color-unfitted-level-0);\n",
       "}\n",
       "\n",
       "#sk-container-id-3 div.sk-toggleable__content.fitted pre {\n",
       "  /* unfitted */\n",
       "  background-color: var(--sklearn-color-fitted-level-0);\n",
       "}\n",
       "\n",
       "#sk-container-id-3 input.sk-toggleable__control:checked~div.sk-toggleable__content {\n",
       "  /* Expand drop-down */\n",
       "  max-height: 200px;\n",
       "  max-width: 100%;\n",
       "  overflow: auto;\n",
       "}\n",
       "\n",
       "#sk-container-id-3 input.sk-toggleable__control:checked~label.sk-toggleable__label-arrow:before {\n",
       "  content: \"▾\";\n",
       "}\n",
       "\n",
       "/* Pipeline/ColumnTransformer-specific style */\n",
       "\n",
       "#sk-container-id-3 div.sk-label input.sk-toggleable__control:checked~label.sk-toggleable__label {\n",
       "  color: var(--sklearn-color-text);\n",
       "  background-color: var(--sklearn-color-unfitted-level-2);\n",
       "}\n",
       "\n",
       "#sk-container-id-3 div.sk-label.fitted input.sk-toggleable__control:checked~label.sk-toggleable__label {\n",
       "  background-color: var(--sklearn-color-fitted-level-2);\n",
       "}\n",
       "\n",
       "/* Estimator-specific style */\n",
       "\n",
       "/* Colorize estimator box */\n",
       "#sk-container-id-3 div.sk-estimator input.sk-toggleable__control:checked~label.sk-toggleable__label {\n",
       "  /* unfitted */\n",
       "  background-color: var(--sklearn-color-unfitted-level-2);\n",
       "}\n",
       "\n",
       "#sk-container-id-3 div.sk-estimator.fitted input.sk-toggleable__control:checked~label.sk-toggleable__label {\n",
       "  /* fitted */\n",
       "  background-color: var(--sklearn-color-fitted-level-2);\n",
       "}\n",
       "\n",
       "#sk-container-id-3 div.sk-label label.sk-toggleable__label,\n",
       "#sk-container-id-3 div.sk-label label {\n",
       "  /* The background is the default theme color */\n",
       "  color: var(--sklearn-color-text-on-default-background);\n",
       "}\n",
       "\n",
       "/* On hover, darken the color of the background */\n",
       "#sk-container-id-3 div.sk-label:hover label.sk-toggleable__label {\n",
       "  color: var(--sklearn-color-text);\n",
       "  background-color: var(--sklearn-color-unfitted-level-2);\n",
       "}\n",
       "\n",
       "/* Label box, darken color on hover, fitted */\n",
       "#sk-container-id-3 div.sk-label.fitted:hover label.sk-toggleable__label.fitted {\n",
       "  color: var(--sklearn-color-text);\n",
       "  background-color: var(--sklearn-color-fitted-level-2);\n",
       "}\n",
       "\n",
       "/* Estimator label */\n",
       "\n",
       "#sk-container-id-3 div.sk-label label {\n",
       "  font-family: monospace;\n",
       "  font-weight: bold;\n",
       "  display: inline-block;\n",
       "  line-height: 1.2em;\n",
       "}\n",
       "\n",
       "#sk-container-id-3 div.sk-label-container {\n",
       "  text-align: center;\n",
       "}\n",
       "\n",
       "/* Estimator-specific */\n",
       "#sk-container-id-3 div.sk-estimator {\n",
       "  font-family: monospace;\n",
       "  border: 1px dotted var(--sklearn-color-border-box);\n",
       "  border-radius: 0.25em;\n",
       "  box-sizing: border-box;\n",
       "  margin-bottom: 0.5em;\n",
       "  /* unfitted */\n",
       "  background-color: var(--sklearn-color-unfitted-level-0);\n",
       "}\n",
       "\n",
       "#sk-container-id-3 div.sk-estimator.fitted {\n",
       "  /* fitted */\n",
       "  background-color: var(--sklearn-color-fitted-level-0);\n",
       "}\n",
       "\n",
       "/* on hover */\n",
       "#sk-container-id-3 div.sk-estimator:hover {\n",
       "  /* unfitted */\n",
       "  background-color: var(--sklearn-color-unfitted-level-2);\n",
       "}\n",
       "\n",
       "#sk-container-id-3 div.sk-estimator.fitted:hover {\n",
       "  /* fitted */\n",
       "  background-color: var(--sklearn-color-fitted-level-2);\n",
       "}\n",
       "\n",
       "/* Specification for estimator info (e.g. \"i\" and \"?\") */\n",
       "\n",
       "/* Common style for \"i\" and \"?\" */\n",
       "\n",
       ".sk-estimator-doc-link,\n",
       "a:link.sk-estimator-doc-link,\n",
       "a:visited.sk-estimator-doc-link {\n",
       "  float: right;\n",
       "  font-size: smaller;\n",
       "  line-height: 1em;\n",
       "  font-family: monospace;\n",
       "  background-color: var(--sklearn-color-background);\n",
       "  border-radius: 1em;\n",
       "  height: 1em;\n",
       "  width: 1em;\n",
       "  text-decoration: none !important;\n",
       "  margin-left: 0.5em;\n",
       "  text-align: center;\n",
       "  /* unfitted */\n",
       "  border: var(--sklearn-color-unfitted-level-1) 1pt solid;\n",
       "  color: var(--sklearn-color-unfitted-level-1);\n",
       "}\n",
       "\n",
       ".sk-estimator-doc-link.fitted,\n",
       "a:link.sk-estimator-doc-link.fitted,\n",
       "a:visited.sk-estimator-doc-link.fitted {\n",
       "  /* fitted */\n",
       "  border: var(--sklearn-color-fitted-level-1) 1pt solid;\n",
       "  color: var(--sklearn-color-fitted-level-1);\n",
       "}\n",
       "\n",
       "/* On hover */\n",
       "div.sk-estimator:hover .sk-estimator-doc-link:hover,\n",
       ".sk-estimator-doc-link:hover,\n",
       "div.sk-label-container:hover .sk-estimator-doc-link:hover,\n",
       ".sk-estimator-doc-link:hover {\n",
       "  /* unfitted */\n",
       "  background-color: var(--sklearn-color-unfitted-level-3);\n",
       "  color: var(--sklearn-color-background);\n",
       "  text-decoration: none;\n",
       "}\n",
       "\n",
       "div.sk-estimator.fitted:hover .sk-estimator-doc-link.fitted:hover,\n",
       ".sk-estimator-doc-link.fitted:hover,\n",
       "div.sk-label-container:hover .sk-estimator-doc-link.fitted:hover,\n",
       ".sk-estimator-doc-link.fitted:hover {\n",
       "  /* fitted */\n",
       "  background-color: var(--sklearn-color-fitted-level-3);\n",
       "  color: var(--sklearn-color-background);\n",
       "  text-decoration: none;\n",
       "}\n",
       "\n",
       "/* Span, style for the box shown on hovering the info icon */\n",
       ".sk-estimator-doc-link span {\n",
       "  display: none;\n",
       "  z-index: 9999;\n",
       "  position: relative;\n",
       "  font-weight: normal;\n",
       "  right: .2ex;\n",
       "  padding: .5ex;\n",
       "  margin: .5ex;\n",
       "  width: min-content;\n",
       "  min-width: 20ex;\n",
       "  max-width: 50ex;\n",
       "  color: var(--sklearn-color-text);\n",
       "  box-shadow: 2pt 2pt 4pt #999;\n",
       "  /* unfitted */\n",
       "  background: var(--sklearn-color-unfitted-level-0);\n",
       "  border: .5pt solid var(--sklearn-color-unfitted-level-3);\n",
       "}\n",
       "\n",
       ".sk-estimator-doc-link.fitted span {\n",
       "  /* fitted */\n",
       "  background: var(--sklearn-color-fitted-level-0);\n",
       "  border: var(--sklearn-color-fitted-level-3);\n",
       "}\n",
       "\n",
       ".sk-estimator-doc-link:hover span {\n",
       "  display: block;\n",
       "}\n",
       "\n",
       "/* \"?\"-specific style due to the `<a>` HTML tag */\n",
       "\n",
       "#sk-container-id-3 a.estimator_doc_link {\n",
       "  float: right;\n",
       "  font-size: 1rem;\n",
       "  line-height: 1em;\n",
       "  font-family: monospace;\n",
       "  background-color: var(--sklearn-color-background);\n",
       "  border-radius: 1rem;\n",
       "  height: 1rem;\n",
       "  width: 1rem;\n",
       "  text-decoration: none;\n",
       "  /* unfitted */\n",
       "  color: var(--sklearn-color-unfitted-level-1);\n",
       "  border: var(--sklearn-color-unfitted-level-1) 1pt solid;\n",
       "}\n",
       "\n",
       "#sk-container-id-3 a.estimator_doc_link.fitted {\n",
       "  /* fitted */\n",
       "  border: var(--sklearn-color-fitted-level-1) 1pt solid;\n",
       "  color: var(--sklearn-color-fitted-level-1);\n",
       "}\n",
       "\n",
       "/* On hover */\n",
       "#sk-container-id-3 a.estimator_doc_link:hover {\n",
       "  /* unfitted */\n",
       "  background-color: var(--sklearn-color-unfitted-level-3);\n",
       "  color: var(--sklearn-color-background);\n",
       "  text-decoration: none;\n",
       "}\n",
       "\n",
       "#sk-container-id-3 a.estimator_doc_link.fitted:hover {\n",
       "  /* fitted */\n",
       "  background-color: var(--sklearn-color-fitted-level-3);\n",
       "}\n",
       "</style><div id=\"sk-container-id-3\" class=\"sk-top-container\"><div class=\"sk-text-repr-fallback\"><pre>Pipeline(steps=[(&#x27;scaler&#x27;, StandardScaler()), (&#x27;pca&#x27;, PCA(n_components=0.8))])</pre><b>In a Jupyter environment, please rerun this cell to show the HTML representation or trust the notebook. <br />On GitHub, the HTML representation is unable to render, please try loading this page with nbviewer.org.</b></div><div class=\"sk-container\" hidden><div class=\"sk-item sk-dashed-wrapped\"><div class=\"sk-label-container\"><div class=\"sk-label fitted sk-toggleable\"><input class=\"sk-toggleable__control sk-hidden--visually\" id=\"sk-estimator-id-8\" type=\"checkbox\" ><label for=\"sk-estimator-id-8\" class=\"sk-toggleable__label fitted sk-toggleable__label-arrow\"><div><div>Pipeline</div></div><div><a class=\"sk-estimator-doc-link fitted\" rel=\"noreferrer\" target=\"_blank\" href=\"https://scikit-learn.org/1.6/modules/generated/sklearn.pipeline.Pipeline.html\">?<span>Documentation for Pipeline</span></a><span class=\"sk-estimator-doc-link fitted\">i<span>Fitted</span></span></div></label><div class=\"sk-toggleable__content fitted\"><pre>Pipeline(steps=[(&#x27;scaler&#x27;, StandardScaler()), (&#x27;pca&#x27;, PCA(n_components=0.8))])</pre></div> </div></div><div class=\"sk-serial\"><div class=\"sk-item\"><div class=\"sk-estimator fitted sk-toggleable\"><input class=\"sk-toggleable__control sk-hidden--visually\" id=\"sk-estimator-id-9\" type=\"checkbox\" ><label for=\"sk-estimator-id-9\" class=\"sk-toggleable__label fitted sk-toggleable__label-arrow\"><div><div>StandardScaler</div></div><div><a class=\"sk-estimator-doc-link fitted\" rel=\"noreferrer\" target=\"_blank\" href=\"https://scikit-learn.org/1.6/modules/generated/sklearn.preprocessing.StandardScaler.html\">?<span>Documentation for StandardScaler</span></a></div></label><div class=\"sk-toggleable__content fitted\"><pre>StandardScaler()</pre></div> </div></div><div class=\"sk-item\"><div class=\"sk-estimator fitted sk-toggleable\"><input class=\"sk-toggleable__control sk-hidden--visually\" id=\"sk-estimator-id-10\" type=\"checkbox\" ><label for=\"sk-estimator-id-10\" class=\"sk-toggleable__label fitted sk-toggleable__label-arrow\"><div><div>PCA</div></div><div><a class=\"sk-estimator-doc-link fitted\" rel=\"noreferrer\" target=\"_blank\" href=\"https://scikit-learn.org/1.6/modules/generated/sklearn.decomposition.PCA.html\">?<span>Documentation for PCA</span></a></div></label><div class=\"sk-toggleable__content fitted\"><pre>PCA(n_components=0.8)</pre></div> </div></div></div></div></div></div>"
      ],
      "text/plain": [
       "Pipeline(steps=[('scaler', StandardScaler()), ('pca', PCA(n_components=0.8))])"
      ]
     },
     "execution_count": 51,
     "metadata": {},
     "output_type": "execute_result"
    }
   ],
   "source": [
    "pipe_pca_treino[0:2] # Seleciona apenas a parte de scaler e pca"
   ]
  },
  {
   "cell_type": "code",
   "execution_count": 52,
   "metadata": {
    "colab": {
     "base_uri": "https://localhost:8080/",
     "height": 256
    },
    "executionInfo": {
     "elapsed": 450,
     "status": "ok",
     "timestamp": 1746455138454,
     "user": {
      "displayName": "João Vitor Gomes",
      "userId": "05467674276511904604"
     },
     "user_tz": 0
    },
    "id": "OlpzHNEf1gbj",
    "outputId": "42bd1533-31f0-43c4-c671-b271b508348b"
   },
   "outputs": [
    {
     "data": {
      "text/html": [
       "<div>\n",
       "<style scoped>\n",
       "    .dataframe tbody tr th:only-of-type {\n",
       "        vertical-align: middle;\n",
       "    }\n",
       "\n",
       "    .dataframe tbody tr th {\n",
       "        vertical-align: top;\n",
       "    }\n",
       "\n",
       "    .dataframe thead th {\n",
       "        text-align: right;\n",
       "    }\n",
       "</style>\n",
       "<table border=\"1\" class=\"dataframe\">\n",
       "  <thead>\n",
       "    <tr style=\"text-align: right;\">\n",
       "      <th></th>\n",
       "      <th>0</th>\n",
       "      <th>1</th>\n",
       "      <th>2</th>\n",
       "      <th>3</th>\n",
       "      <th>4</th>\n",
       "      <th>5</th>\n",
       "      <th>6</th>\n",
       "      <th>7</th>\n",
       "      <th>8</th>\n",
       "      <th>9</th>\n",
       "      <th>...</th>\n",
       "      <th>173</th>\n",
       "      <th>174</th>\n",
       "      <th>175</th>\n",
       "      <th>176</th>\n",
       "      <th>177</th>\n",
       "      <th>178</th>\n",
       "      <th>179</th>\n",
       "      <th>180</th>\n",
       "      <th>181</th>\n",
       "      <th>182</th>\n",
       "    </tr>\n",
       "  </thead>\n",
       "  <tbody>\n",
       "    <tr>\n",
       "      <th>0</th>\n",
       "      <td>-57.446987</td>\n",
       "      <td>-95.410981</td>\n",
       "      <td>74.301543</td>\n",
       "      <td>12.166781</td>\n",
       "      <td>-7.981831</td>\n",
       "      <td>-36.157573</td>\n",
       "      <td>-7.668542</td>\n",
       "      <td>19.951444</td>\n",
       "      <td>0.142216</td>\n",
       "      <td>-3.035240</td>\n",
       "      <td>...</td>\n",
       "      <td>-3.494319</td>\n",
       "      <td>-3.425565</td>\n",
       "      <td>-3.554186</td>\n",
       "      <td>-2.602252</td>\n",
       "      <td>-5.895638</td>\n",
       "      <td>-0.907671</td>\n",
       "      <td>9.060001</td>\n",
       "      <td>-3.528184</td>\n",
       "      <td>3.221192</td>\n",
       "      <td>4.024332</td>\n",
       "    </tr>\n",
       "    <tr>\n",
       "      <th>1</th>\n",
       "      <td>-16.919430</td>\n",
       "      <td>-0.732470</td>\n",
       "      <td>-64.072900</td>\n",
       "      <td>2.095308</td>\n",
       "      <td>25.426430</td>\n",
       "      <td>-27.784178</td>\n",
       "      <td>-16.132765</td>\n",
       "      <td>-17.031383</td>\n",
       "      <td>-22.023874</td>\n",
       "      <td>27.923308</td>\n",
       "      <td>...</td>\n",
       "      <td>-4.523526</td>\n",
       "      <td>5.590659</td>\n",
       "      <td>-2.262219</td>\n",
       "      <td>1.414662</td>\n",
       "      <td>1.282629</td>\n",
       "      <td>2.892098</td>\n",
       "      <td>0.280350</td>\n",
       "      <td>-3.223604</td>\n",
       "      <td>-2.275011</td>\n",
       "      <td>-0.251812</td>\n",
       "    </tr>\n",
       "    <tr>\n",
       "      <th>2</th>\n",
       "      <td>-70.345218</td>\n",
       "      <td>19.303327</td>\n",
       "      <td>20.488240</td>\n",
       "      <td>-48.102893</td>\n",
       "      <td>-24.437757</td>\n",
       "      <td>-17.462510</td>\n",
       "      <td>20.706772</td>\n",
       "      <td>-47.626817</td>\n",
       "      <td>-28.647648</td>\n",
       "      <td>12.784676</td>\n",
       "      <td>...</td>\n",
       "      <td>-5.868215</td>\n",
       "      <td>-2.636948</td>\n",
       "      <td>6.090371</td>\n",
       "      <td>4.090740</td>\n",
       "      <td>-10.278097</td>\n",
       "      <td>-8.018019</td>\n",
       "      <td>1.712496</td>\n",
       "      <td>-10.784348</td>\n",
       "      <td>11.152698</td>\n",
       "      <td>-2.664590</td>\n",
       "    </tr>\n",
       "    <tr>\n",
       "      <th>3</th>\n",
       "      <td>-49.161591</td>\n",
       "      <td>9.227586</td>\n",
       "      <td>61.243770</td>\n",
       "      <td>-37.805744</td>\n",
       "      <td>-1.038889</td>\n",
       "      <td>-23.240002</td>\n",
       "      <td>-4.801039</td>\n",
       "      <td>-21.554809</td>\n",
       "      <td>-15.375067</td>\n",
       "      <td>12.881511</td>\n",
       "      <td>...</td>\n",
       "      <td>0.660787</td>\n",
       "      <td>-1.121139</td>\n",
       "      <td>-0.081250</td>\n",
       "      <td>1.166404</td>\n",
       "      <td>-0.886662</td>\n",
       "      <td>-0.025059</td>\n",
       "      <td>5.830756</td>\n",
       "      <td>-1.113062</td>\n",
       "      <td>0.430741</td>\n",
       "      <td>0.092854</td>\n",
       "    </tr>\n",
       "    <tr>\n",
       "      <th>4</th>\n",
       "      <td>-18.132534</td>\n",
       "      <td>51.327797</td>\n",
       "      <td>16.598116</td>\n",
       "      <td>17.699201</td>\n",
       "      <td>-26.389130</td>\n",
       "      <td>1.551573</td>\n",
       "      <td>-6.266101</td>\n",
       "      <td>12.336677</td>\n",
       "      <td>-4.233837</td>\n",
       "      <td>-28.804476</td>\n",
       "      <td>...</td>\n",
       "      <td>-0.375315</td>\n",
       "      <td>1.854333</td>\n",
       "      <td>-0.322975</td>\n",
       "      <td>-1.235294</td>\n",
       "      <td>-6.195407</td>\n",
       "      <td>-2.392793</td>\n",
       "      <td>-3.220275</td>\n",
       "      <td>-5.038342</td>\n",
       "      <td>0.691079</td>\n",
       "      <td>-4.201646</td>\n",
       "    </tr>\n",
       "  </tbody>\n",
       "</table>\n",
       "<p>5 rows × 183 columns</p>\n",
       "</div>"
      ],
      "text/plain": [
       "         0          1          2          3          4          5    \\\n",
       "0 -57.446987 -95.410981  74.301543  12.166781  -7.981831 -36.157573   \n",
       "1 -16.919430  -0.732470 -64.072900   2.095308  25.426430 -27.784178   \n",
       "2 -70.345218  19.303327  20.488240 -48.102893 -24.437757 -17.462510   \n",
       "3 -49.161591   9.227586  61.243770 -37.805744  -1.038889 -23.240002   \n",
       "4 -18.132534  51.327797  16.598116  17.699201 -26.389130   1.551573   \n",
       "\n",
       "         6          7          8          9    ...       173       174  \\\n",
       "0  -7.668542  19.951444   0.142216  -3.035240  ... -3.494319 -3.425565   \n",
       "1 -16.132765 -17.031383 -22.023874  27.923308  ... -4.523526  5.590659   \n",
       "2  20.706772 -47.626817 -28.647648  12.784676  ... -5.868215 -2.636948   \n",
       "3  -4.801039 -21.554809 -15.375067  12.881511  ...  0.660787 -1.121139   \n",
       "4  -6.266101  12.336677  -4.233837 -28.804476  ... -0.375315  1.854333   \n",
       "\n",
       "        175       176        177       178       179        180        181  \\\n",
       "0 -3.554186 -2.602252  -5.895638 -0.907671  9.060001  -3.528184   3.221192   \n",
       "1 -2.262219  1.414662   1.282629  2.892098  0.280350  -3.223604  -2.275011   \n",
       "2  6.090371  4.090740 -10.278097 -8.018019  1.712496 -10.784348  11.152698   \n",
       "3 -0.081250  1.166404  -0.886662 -0.025059  5.830756  -1.113062   0.430741   \n",
       "4 -0.322975 -1.235294  -6.195407 -2.392793 -3.220275  -5.038342   0.691079   \n",
       "\n",
       "        182  \n",
       "0  4.024332  \n",
       "1 -0.251812  \n",
       "2 -2.664590  \n",
       "3  0.092854  \n",
       "4 -4.201646  \n",
       "\n",
       "[5 rows x 183 columns]"
      ]
     },
     "execution_count": 52,
     "metadata": {},
     "output_type": "execute_result"
    }
   ],
   "source": [
    "df_pca_treino = pd.DataFrame(pipe_pca_treino[0:2].transform(df_copia)) # Transforma os dados\n",
    "df_pca_treino.head()"
   ]
  },
  {
   "cell_type": "code",
   "execution_count": 53,
   "metadata": {
    "colab": {
     "base_uri": "https://localhost:8080/"
    },
    "executionInfo": {
     "elapsed": 17,
     "status": "ok",
     "timestamp": 1746455171371,
     "user": {
      "displayName": "João Vitor Gomes",
      "userId": "05467674276511904604"
     },
     "user_tz": 0
    },
    "id": "fYf62oQq1syd",
    "outputId": "b11d86af-b14d-44aa-afbe-151d2399f35c"
   },
   "outputs": [
    {
     "data": {
      "text/plain": [
       "array([3, 0, 3, 3, 4], dtype=int32)"
      ]
     },
     "execution_count": 53,
     "metadata": {},
     "output_type": "execute_result"
    }
   ],
   "source": [
    "labels_pca_treino = pipe_pca_treino['kmeans'].labels_ # Resgata os rótulos\n",
    "labels_pca_treino[0:5]\n"
   ]
  },
  {
   "cell_type": "code",
   "execution_count": 54,
   "metadata": {
    "colab": {
     "base_uri": "https://localhost:8080/"
    },
    "executionInfo": {
     "elapsed": 50,
     "status": "ok",
     "timestamp": 1746455293640,
     "user": {
      "displayName": "João Vitor Gomes",
      "userId": "05467674276511904604"
     },
     "user_tz": 0
    },
    "id": "mKLrKzrp1yUG",
    "outputId": "72a3f971-3e4f-44fa-ee9d-a8c93cb0c052"
   },
   "outputs": [
    {
     "name": "stdout",
     "output_type": "stream",
     "text": [
      "Usando a métrica padrão: 0.16298 \n",
      "Usando a métrica cosine: 0.28554\n"
     ]
    }
   ],
   "source": [
    "score_cosine = silhouette_score(df_pca_treino, labels_pca_treino, metric='cosine') # Calcula o score\n",
    "score_default = silhouette_score(df_pca_treino, labels_pca_treino) # Calcula o score padrão\n",
    "print('Usando a métrica padrão: %.5f \\nUsando a métrica cosine: %.5f' % (score_default, score_cosine))"
   ]
  },
  {
   "cell_type": "markdown",
   "metadata": {
    "id": "yzZevCfdzaFd"
   },
   "source": [
    "#### Melhor valor para redução do PCA"
   ]
  },
  {
   "cell_type": "markdown",
   "metadata": {
    "id": "Bil7Dq3azdEn"
   },
   "source": [
    "Caso não seja desejado usar um `PCA` com variância determinada, é possível achar aquele que melhor resulta em uma boa performance."
   ]
  },
  {
   "cell_type": "markdown",
   "metadata": {
    "id": "y_c6uY2-50MV"
   },
   "source": [
    "Pode-se fazer um for loop simples, para achar o melhor valore de `n_components`:"
   ]
  },
  {
   "cell_type": "code",
   "execution_count": 55,
   "metadata": {
    "colab": {
     "base_uri": "https://localhost:8080/"
    },
    "executionInfo": {
     "elapsed": 17650,
     "status": "ok",
     "timestamp": 1746455493077,
     "user": {
      "displayName": "João Vitor Gomes",
      "userId": "05467674276511904604"
     },
     "user_tz": 0
    },
    "id": "OJjfPeWNP4EL",
    "outputId": "848c8f9d-caab-4d00-c801-301fc96011da"
   },
   "outputs": [
    {
     "name": "stdout",
     "output_type": "stream",
     "text": [
      "2 0.1091957598964675\n",
      "3 0.3654353977766174\n",
      "4 0.5161516994267739\n",
      "5 0.5652016878154372\n",
      "6 0.5493740682111093\n",
      "7 0.5290240241365778\n",
      "8 0.5174976104376448\n",
      "9 0.5070237042267206\n"
     ]
    }
   ],
   "source": [
    "values_list = [] # Lista de valores para fazer o gráfico depois\n",
    "for k in range(2,10): # Para todo k entre 2 e 10\n",
    "  pipe_pca = Pipeline([('standard_scaler', scaler),\n",
    "                 ('pca', PCA(n_components=k, # Use o valor de k\n",
    "                             random_state=123))]) # Estado 123 para consistência\n",
    "  pca_value = pipe_pca.fit_transform(df_1) # Treina e modifica o pca_value\n",
    "  print(k, # Mostra o número\n",
    "        silhouette_score(pca_value, labels, metric='cosine')) # Mostra o score\n",
    "  values_list.append(silhouette_score(pca_value, labels, metric='cosine')) # Adiciona o score à lista\n",
    "\n"
   ]
  },
  {
   "cell_type": "markdown",
   "metadata": {},
   "source": [
    "Montando estes valores em um gráfico:"
   ]
  },
  {
   "cell_type": "code",
   "execution_count": 58,
   "metadata": {
    "colab": {
     "base_uri": "https://localhost:8080/",
     "height": 430
    },
    "executionInfo": {
     "elapsed": 117,
     "status": "ok",
     "timestamp": 1746455496478,
     "user": {
      "displayName": "João Vitor Gomes",
      "userId": "05467674276511904604"
     },
     "user_tz": 0
    },
    "id": "3NeJvAu5YdVy",
    "outputId": "d9272fdc-ab81-427b-b8a8-8f7bb729684d"
   },
   "outputs": [
    {
     "data": {
      "image/png": "[encoded data removed]",
      "text/plain": [
       "<Figure size 640x480 with 1 Axes>"
      ]
     },
     "metadata": {},
     "output_type": "display_data"
    }
   ],
   "source": [
    "plt.plot(range(2,10), values_list) # Plota o gráfico\n",
    "plt.xlabel(\"Número de componentes do PCA\")\n",
    "plt.ylabel(\"Silhouette Score\")\n",
    "plt.title(\"Performance baseada em número de componentes de PCA\")\n",
    "plt.grid() # Adiciona uma grade\n",
    "plt.show()"
   ]
  },
  {
   "cell_type": "markdown",
   "metadata": {
    "id": "46buybXP56mx"
   },
   "source": [
    "Neste caso, o melhor valor de `n_components` seria 5\\*. Porém, é necessária cautela com este valor, pois com diferentes `random_state` ocorrerem alterações no valor:\n",
    "\n",
    "\\* *Como há aleatoriedade inata no modelo, este valor pode mudar para cada instância de PCA.*"
   ]
  },
  {
   "cell_type": "code",
   "execution_count": 59,
   "metadata": {
    "colab": {
     "base_uri": "https://localhost:8080/"
    },
    "executionInfo": {
     "elapsed": 2467,
     "status": "ok",
     "timestamp": 1746455597046,
     "user": {
      "displayName": "João Vitor Gomes",
      "userId": "05467674276511904604"
     },
     "user_tz": 0
    },
    "id": "2BPNuLmQ6Eh7",
    "outputId": "f4fe4f66-4091-440e-877e-33ef03296a79"
   },
   "outputs": [
    {
     "name": "stdout",
     "output_type": "stream",
     "text": [
      "5 0.5652016849904051\n",
      "A diferença entre ambos foi: 2.825032097142355e-09\n"
     ]
    }
   ],
   "source": [
    "pipe_pca = Pipeline([('standard_scaler', scaler),\n",
    "              ('pca', PCA(n_components=5, # Use o valor mais alto obtido\n",
    "                          random_state=456))]) # Estado 456, diferente de 123\n",
    "\n",
    "pca_value = pipe_pca.fit_transform(df_copia) # Treina e modifica o pca_value\n",
    "score_novo = silhouette_score(pca_value, labels, metric='cosine') # Calcula o score\n",
    "print(5, score_novo)\n",
    "\n",
    "print('A diferença entre ambos foi:', values_list[3] - score_novo)"
   ]
  },
  {
   "cell_type": "markdown",
   "metadata": {
    "id": "lf94J8-yVvvo"
   },
   "source": [
    "### PCA para visualização"
   ]
  },
  {
   "cell_type": "markdown",
   "metadata": {
    "id": "yVDzjPnxU1x6"
   },
   "source": [
    "Também é possível usar `PCA` para reduzir o número de dimensões, de forma a possibilitar a visualização dos resultados. Para isso, usa-se `n_components = 2`"
   ]
  },
  {
   "cell_type": "code",
   "execution_count": 60,
   "metadata": {
    "colab": {
     "base_uri": "https://localhost:8080/",
     "height": 206
    },
    "executionInfo": {
     "elapsed": 1684,
     "status": "ok",
     "timestamp": 1746455866452,
     "user": {
      "displayName": "João Vitor Gomes",
      "userId": "05467674276511904604"
     },
     "user_tz": 0
    },
    "id": "QDjgReaHVMwA",
    "outputId": "886eb250-b13e-492b-cbda-35dcb1cc32e9"
   },
   "outputs": [
    {
     "data": {
      "text/html": [
       "<div>\n",
       "<style scoped>\n",
       "    .dataframe tbody tr th:only-of-type {\n",
       "        vertical-align: middle;\n",
       "    }\n",
       "\n",
       "    .dataframe tbody tr th {\n",
       "        vertical-align: top;\n",
       "    }\n",
       "\n",
       "    .dataframe thead th {\n",
       "        text-align: right;\n",
       "    }\n",
       "</style>\n",
       "<table border=\"1\" class=\"dataframe\">\n",
       "  <thead>\n",
       "    <tr style=\"text-align: right;\">\n",
       "      <th></th>\n",
       "      <th>0</th>\n",
       "      <th>1</th>\n",
       "    </tr>\n",
       "  </thead>\n",
       "  <tbody>\n",
       "    <tr>\n",
       "      <th>0</th>\n",
       "      <td>-57.446987</td>\n",
       "      <td>-95.410981</td>\n",
       "    </tr>\n",
       "    <tr>\n",
       "      <th>1</th>\n",
       "      <td>-16.919430</td>\n",
       "      <td>-0.732470</td>\n",
       "    </tr>\n",
       "    <tr>\n",
       "      <th>2</th>\n",
       "      <td>-70.345218</td>\n",
       "      <td>19.303327</td>\n",
       "    </tr>\n",
       "    <tr>\n",
       "      <th>3</th>\n",
       "      <td>-49.161591</td>\n",
       "      <td>9.227586</td>\n",
       "    </tr>\n",
       "    <tr>\n",
       "      <th>4</th>\n",
       "      <td>-18.132534</td>\n",
       "      <td>51.327797</td>\n",
       "    </tr>\n",
       "  </tbody>\n",
       "</table>\n",
       "</div>"
      ],
      "text/plain": [
       "           0          1\n",
       "0 -57.446987 -95.410981\n",
       "1 -16.919430  -0.732470\n",
       "2 -70.345218  19.303327\n",
       "3 -49.161591   9.227586\n",
       "4 -18.132534  51.327797"
      ]
     },
     "execution_count": 60,
     "metadata": {},
     "output_type": "execute_result"
    }
   ],
   "source": [
    "pca_visu = PCA(n_components=2, # 2 dimensões, x e y\n",
    "               random_state=123)\n",
    "\n",
    "pipe_visu = Pipeline([('standard_scaler', scaler),\n",
    "                      ('pca', pca_visu),\n",
    "                      ('kmeans', model)])\n",
    "\n",
    "pipe_visu.fit(df_copia) # Treina o modelo\n",
    "dados_visu = pipe_visu[0:2].transform(df_copia) # Transforma os dados com scaler -> pca\n",
    "pd.DataFrame(dados_visu).head() # Transforma em DataFrame para visualizar"
   ]
  },
  {
   "cell_type": "markdown",
   "metadata": {
    "id": "HblW7pww8bao"
   },
   "source": [
    "Vamos recalcular os centróides, com uma pipeline que incorpora `PCA`. Eles estão disponíveis atravéis do atributo `.cluster_centers_` de `kmeans`"
   ]
  },
  {
   "cell_type": "code",
   "execution_count": 61,
   "metadata": {
    "colab": {
     "base_uri": "https://localhost:8080/"
    },
    "executionInfo": {
     "elapsed": 0,
     "status": "ok",
     "timestamp": 1746455679648,
     "user": {
      "displayName": "João Vitor Gomes",
      "userId": "05467674276511904604"
     },
     "user_tz": 0
    },
    "id": "3ZjsERpIU2Ag",
    "outputId": "bdf25a3d-0265-4d06-ba37-cf9ff046a3a8"
   },
   "outputs": [
    {
     "data": {
      "text/plain": [
       "array([[-23.93516388,  22.20763104],\n",
       "       [ 80.8781957 , -33.56782988],\n",
       "       [-57.10000012, -40.37895218],\n",
       "       [  7.7909794 ,  56.93533334],\n",
       "       [ -5.03435244, -14.96379001]])"
      ]
     },
     "execution_count": 61,
     "metadata": {},
     "output_type": "execute_result"
    }
   ],
   "source": [
    "centroides = pipe_visu['kmeans'].cluster_centers_ # Resgata os centroides\n",
    "labels_visu = pipe_visu['kmeans'].labels_ # Resgata os rótulos\n",
    "centroides"
   ]
  },
  {
   "cell_type": "markdown",
   "metadata": {
    "id": "mWhGqosz3wN0"
   },
   "source": [
    "Assim, podemos fazer um gráfico com estes dados:"
   ]
  },
  {
   "cell_type": "code",
   "execution_count": 62,
   "metadata": {
    "colab": {
     "base_uri": "https://localhost:8080/",
     "height": 528
    },
    "executionInfo": {
     "elapsed": 434,
     "status": "ok",
     "timestamp": 1746456200692,
     "user": {
      "displayName": "João Vitor Gomes",
      "userId": "05467674276511904604"
     },
     "user_tz": 0
    },
    "id": "lXPzZkz9WZeA",
    "outputId": "11358459-2f29-4192-cf39-f8c80aadd8b2"
   },
   "outputs": [
    {
     "data": {
      "image/png": "[encoded data removed]",
      "text/plain": [
       "<Figure size 1000x500 with 2 Axes>"
      ]
     },
     "metadata": {},
     "output_type": "display_data"
    }
   ],
   "source": [
    "true_label_colors = LabelEncoder().fit_transform(true_labels) # Transforma os\n",
    "# rótulos originais em números para serem convertidos em cores.\n",
    "\n",
    "fig, ax = plt.subplots(1,2, figsize=(10,5)) # Cria uma figura com 2 gráficos\n",
    "\n",
    "# Gráfico com rótulos verdadeiros\n",
    "ax[0].scatter(dados_visu[:,0], dados_visu[:,1], c=true_label_colors)\n",
    "\n",
    "# Gráfico com rótulos do nosso modelo de PCA\n",
    "ax[1].scatter(dados_visu[:,0], dados_visu[:,1], c=labels_visu)\n",
    "\n",
    "\n",
    "# Adiciona os centróides para ambos gráficos\n",
    "ax[0].scatter(centroides[:,0], centroides[:,1], c='red', s=50)\n",
    "ax[1].scatter(centroides[:,0], centroides[:,1], c='red', s=50)\n",
    "\n",
    "\n",
    "# Adiciona títulos e legenda\n",
    "ax[0].set_title(\"PCA (n=2) com rótulos originais\")\n",
    "ax[1].set_title(\"PCA (n=2) com rótulos do modelo PCA\")\n",
    "\n",
    "# Adicionar um texto com o silhouette score\n",
    "plt.figtext(0.5, -0.05,\n",
    "              \"silhouette score : %.3f\" % silhouette_score(dados_visu, labels) ,\n",
    "              ha=\"center\", fontsize=12)\n",
    "\n",
    "\n",
    "\n",
    "plt.show()"
   ]
  },
  {
   "cell_type": "markdown",
   "metadata": {
    "id": "xZ8NUdcZ5tHN"
   },
   "source": [
    "Pode-se considerar usar de `PCA` para graficar os centróides do modelo original (treinado sem uso do `PCA`) ou do modelo com `PCA` (`n=0.8`) para visualizar a performance.   \n",
    "Porém, como o `cluster_centers` vieram de um espaço de maior dimensão, é necessário retreinar o `scaler` e `PCA` com eles na dataframe.  \n",
    "Ainda sim, é possível usar do PCA com os rótulos do modelo, porém sua informação é menos útil:"
   ]
  },
  {
   "cell_type": "code",
   "execution_count": 63,
   "metadata": {
    "colab": {
     "base_uri": "https://localhost:8080/",
     "height": 487
    },
    "executionInfo": {
     "elapsed": 917,
     "status": "ok",
     "timestamp": 1746457137927,
     "user": {
      "displayName": "João Vitor Gomes",
      "userId": "05467674276511904604"
     },
     "user_tz": 0
    },
    "id": "Z5L1izgh7fVQ",
    "outputId": "f99257bb-116f-4dd2-fbf6-22d3a0374598"
   },
   "outputs": [
    {
     "data": {
      "image/png": "[encoded data removed]",
      "text/plain": [
       "<Figure size 640x480 with 2 Axes>"
      ]
     },
     "metadata": {},
     "output_type": "display_data"
    }
   ],
   "source": [
    "fig, ax = plt.subplots(1,2) # Cria uma figura com 2 gráficos\n",
    "\n",
    "# Gráfico com rótulos verdadeiros\n",
    "ax[0].scatter(dados_visu[:,0], dados_visu[:,1], c=true_label_colors)\n",
    "\n",
    "# Gráfico com rótulos do modelo original\n",
    "ax[1].scatter(dados_visu[:,0], dados_visu[:,1], c=labels)\n",
    "\n",
    "\n",
    "# Adiciona título\n",
    "ax[0].set_title(\"PCA (n=2) com rótulos originais\")\n",
    "ax[1].set_title(\"PCA (n=2) com rótulos do modelo\")\n",
    "\n",
    "plt.tight_layout() # Ajusta o layout\n",
    "\n",
    "plt.show()\n"
   ]
  },
  {
   "cell_type": "markdown",
   "metadata": {
    "id": "r0CkDHblok0f"
   },
   "source": [
    "## t-SNE\n",
    "*t-SNE*, ou *t-distributed stochastic neighbor embedding*, é uma forma de redução de dimensões, feita principalmente para visualização.  \n",
    "Seu uso é semelhante a todos os outros modelos:\n",
    "\n"
   ]
  },
  {
   "cell_type": "code",
   "execution_count": 64,
   "metadata": {
    "executionInfo": {
     "elapsed": 17,
     "status": "ok",
     "timestamp": 1746456395079,
     "user": {
      "displayName": "João Vitor Gomes",
      "userId": "05467674276511904604"
     },
     "user_tz": 0
    },
    "id": "kv0-USrzk254"
   },
   "outputs": [],
   "source": [
    "from sklearn.manifold import TSNE"
   ]
  },
  {
   "cell_type": "markdown",
   "metadata": {
    "id": "Jkl1-LF8rj7d"
   },
   "source": [
    "Os principais argumentos do `TSNE` são `n_components` - o número de dimensões final; e `perlexity` - relacionado ao número de \"vizinhos\" para similharidades, e em grandes datasets, é recomendado um número maior.  \n",
    "Vamos usar de uma pipeline, para ver a performance do *t-SNE* junto a outros modelos."
   ]
  },
  {
   "cell_type": "code",
   "execution_count": 65,
   "metadata": {
    "executionInfo": {
     "elapsed": 9000,
     "status": "ok",
     "timestamp": 1746456454030,
     "user": {
      "displayName": "João Vitor Gomes",
      "userId": "05467674276511904604"
     },
     "user_tz": 0
    },
    "id": "SK84mS_Tk5rw"
   },
   "outputs": [],
   "source": [
    "pipe = Pipeline([('scaler', scaler), # Normaliza os dados\n",
    "                 ('tsne', TSNE(n_components=2, # 2 Dimensões\n",
    "                               perplexity=30)) # ~30 perplexidade\n",
    "                 ])\n",
    "\n",
    "points = pipe.fit_transform(df_copia) # Aplica a pipeline e salva à variável\n",
    "\n",
    "points_x = points[:,0] # Seleciona todos valores da primeira coluna da array\n",
    "points_y = points[:,1] # Seleciona todos valores da segunda coluna da array"
   ]
  },
  {
   "cell_type": "markdown",
   "metadata": {
    "id": "orSFL67SwjCR"
   },
   "source": [
    "Agora, vamos usar de um _scatter plot_ para visualizar os dados. Como também temos os rótulos, podemos ver um pouco da performance."
   ]
  },
  {
   "cell_type": "code",
   "execution_count": 66,
   "metadata": {
    "colab": {
     "base_uri": "https://localhost:8080/",
     "height": 314
    },
    "executionInfo": {
     "elapsed": 516,
     "status": "ok",
     "timestamp": 1746456632350,
     "user": {
      "displayName": "João Vitor Gomes",
      "userId": "05467674276511904604"
     },
     "user_tz": 0
    },
    "id": "krVRkKGJmrHy",
    "outputId": "5a410c70-cd59-45d5-aacc-c5002ba901c6"
   },
   "outputs": [
    {
     "data": {
      "image/png": "[encoded data removed]",
      "text/plain": [
       "<Figure size 1000x300 with 3 Axes>"
      ]
     },
     "metadata": {},
     "output_type": "display_data"
    }
   ],
   "source": [
    "# Declara o modelo, e transforma true_labels em numeros\n",
    "true_colors = LabelEncoder().fit_transform(true_labels)\n",
    "\n",
    "# Figura com 3 gráficos\n",
    "fig, axes = plt.subplots(1, 3, figsize=(10,3))\n",
    "\n",
    "# Scatterplot dos pontos sem rótulos\n",
    "axes[0].scatter(x=points_x,\n",
    "                y=points_y)\n",
    "axes[0].set_title('t-Sne sem rótulos')\n",
    "\n",
    "# Scatterplots com core = rótulos originais\n",
    "axes[1].scatter(c=true_colors,\n",
    "                x=points_x,\n",
    "                y=points_y)\n",
    "axes[1].set_title('t-Sne com rótulos originais')\n",
    "\n",
    "# Scatterplot com cores = rótulos dados pelo modelo\n",
    "axes[2].scatter(c=labels,\n",
    "                x=points_x,\n",
    "                y=points_y)\n",
    "axes[2].set_title('t-Sne com rótulos do modelo')\n",
    "\n",
    "# Mostra a figura\n",
    "plt.show()"
   ]
  },
  {
   "cell_type": "markdown",
   "metadata": {
    "id": "yaTXbxG69PS-"
   },
   "source": [
    "## Escolha de melhor K (Modelagem e Análise)"
   ]
  },
  {
   "cell_type": "markdown",
   "metadata": {
    "id": "QOTxyVsGL-WF"
   },
   "source": [
    "Neste caso, sabemos que o número de grupos \"correto\" é 5. Porém, em casos em que não é conhecido, há diferentes maneiras de identificar o número `k` ideal de clusters."
   ]
  },
  {
   "cell_type": "markdown",
   "metadata": {
    "id": "YZyi_E1JPBSp"
   },
   "source": [
    "### Método do cotovelo\n",
    "O método do cotovelo é um método em que se calcula a soma das distâncias dos centróides para cada cluster (`inertia_`), e se escolhe k baseado na redução da inércia. A partir do ponto em que não há uma redução tão significativa, é entendido como o ponto ideal para se parar.\n",
    "\n",
    "Sua implementação em python pode ser dada por iterações, indo de `k` a `k` em um `for loop`:"
   ]
  },
  {
   "cell_type": "code",
   "execution_count": 67,
   "metadata": {
    "executionInfo": {
     "elapsed": 16500,
     "status": "ok",
     "timestamp": 1746457180361,
     "user": {
      "displayName": "João Vitor Gomes",
      "userId": "05467674276511904604"
     },
     "user_tz": 0
    },
    "id": "XNcuwQ5a9ZpO"
   },
   "outputs": [],
   "source": [
    "lista_scores_inertia = []  # Cria uma lista para incluir os valores\n",
    "\n",
    "for k in range(2,10): # Para k entre 2 e 10\n",
    "  model = KMeans(n_clusters=k) # Cria o modelo KMeans com k clusters\n",
    "  pipe = Pipeline([('scaler', scaler), # Usa de pipeline com scaler e kmeans\n",
    "                   ('kmeans', model)])\n",
    "\n",
    "  pipe.fit(df_copia) # Treina o modelo\n",
    "\n",
    "  lista_scores_inertia.append(pipe['kmeans'].inertia_) # Adiciona o score à lista"
   ]
  },
  {
   "cell_type": "markdown",
   "metadata": {
    "id": "pQ_xqg9YSAbs"
   },
   "source": [
    "Podemos usar de um gráfico para auxiliar na visualização:"
   ]
  },
  {
   "cell_type": "code",
   "execution_count": 68,
   "metadata": {
    "colab": {
     "base_uri": "https://localhost:8080/",
     "height": 487
    },
    "executionInfo": {
     "elapsed": 350,
     "status": "ok",
     "timestamp": 1746457234012,
     "user": {
      "displayName": "João Vitor Gomes",
      "userId": "05467674276511904604"
     },
     "user_tz": 0
    },
    "id": "jhUNH9M5SCah",
    "outputId": "3b997da6-3549-4992-aed8-b113fed66829"
   },
   "outputs": [
    {
     "data": {
      "image/png": "[encoded data removed]",
      "text/plain": [
       "<Figure size 1000x500 with 1 Axes>"
      ]
     },
     "metadata": {},
     "output_type": "display_data"
    }
   ],
   "source": [
    "# Ajusta o tamanho da imagem\n",
    "plt.figure(figsize=(10,5))\n",
    "\n",
    "\n",
    "# Desenha as linhas\n",
    "plt.plot(range(2,10), lista_scores_inertia)\n",
    "\n",
    "\n",
    "# Elementos do gráfico\n",
    "plt.title('Inertia X K')\n",
    "plt.xlabel('Número de clusters')\n",
    "plt.ylabel('Inércia')\n",
    "plt.grid()\n",
    "\n",
    "plt.show()"
   ]
  },
  {
   "cell_type": "markdown",
   "metadata": {
    "id": "SjOCKeQBSbsh"
   },
   "source": [
    "Percebe-se que há lugares em que a inércia não muda muito de um valor por outro. Tanto que para  `k > 5`, aumentar o número de clusters não diminui significativamente a inércia. Graficamente, o comportamento da linha forma um \"cotovelo,\" da onde vem o nome."
   ]
  },
  {
   "cell_type": "markdown",
   "metadata": {
    "id": "sEzLSv8LS7qJ"
   },
   "source": [
    "### Por scores\n",
    "Foram-se vistos bastantes valores de score, e estes também podem ser utilizados para determinar o valor ideal de `k`. Estes também serão feitos de forma iterativa.  \n",
    "Porém, é necessário estar atento para se um valor melhor indica uma melhor ou pior performance.\n",
    "Segue o exemplo utilizando `silhouette_score`:"
   ]
  },
  {
   "cell_type": "code",
   "execution_count": 69,
   "metadata": {
    "executionInfo": {
     "elapsed": 31567,
     "status": "ok",
     "timestamp": 1746457580069,
     "user": {
      "displayName": "João Vitor Gomes",
      "userId": "05467674276511904604"
     },
     "user_tz": 0
    },
    "id": "XoAZaBC8TU4P"
   },
   "outputs": [],
   "source": [
    "lista_scores_silhouette = []\n",
    "\n",
    "for k in range(2,10): # Para k entre 2 e 10\n",
    "  model = KMeans(n_clusters=k,# Cria o modelo KMeans com k clusters\n",
    "                 random_state=1) # Usa de um random_state para consistência\n",
    "  pipe = Pipeline([('scaler', scaler),\n",
    "                   ('kmeans', model)])\n",
    "  pipe.fit(df_copia) # Treina o modelo\n",
    "  score = silhouette_score(df_copia, pipe['kmeans'].labels_, metric='cosine') # Calcula o score\n",
    "  lista_scores_silhouette.append(score) # Adiciona o score à lista"
   ]
  },
  {
   "cell_type": "markdown",
   "metadata": {
    "id": "9NnKTnJQTtdL"
   },
   "source": [
    "Graficamente:"
   ]
  },
  {
   "cell_type": "code",
   "execution_count": 70,
   "metadata": {
    "colab": {
     "base_uri": "https://localhost:8080/",
     "height": 487
    },
    "executionInfo": {
     "elapsed": 650,
     "status": "ok",
     "timestamp": 1746457595186,
     "user": {
      "displayName": "João Vitor Gomes",
      "userId": "05467674276511904604"
     },
     "user_tz": 0
    },
    "id": "W6YmDH4R-N2c",
    "outputId": "c4193e56-0881-407c-93a2-ec1b53f559dd"
   },
   "outputs": [
    {
     "data": {
      "image/png": "[encoded data removed]",
      "text/plain": [
       "<Figure size 1000x500 with 1 Axes>"
      ]
     },
     "metadata": {},
     "output_type": "display_data"
    }
   ],
   "source": [
    "# Ajusta o tamanho da imagem\n",
    "plt.figure(figsize=(10,5))\n",
    "\n",
    "\n",
    "# Desenha as linhas\n",
    "plt.plot(range(2,10), lista_scores_silhouette)\n",
    "\n",
    "\n",
    "# Elementos do gráfico\n",
    "plt.title('Score X K')\n",
    "plt.xlabel('Número de clusters')\n",
    "plt.ylabel('silhouette_score')\n",
    "plt.grid()\n",
    "\n",
    "plt.show()"
   ]
  },
  {
   "cell_type": "markdown",
   "metadata": {
    "id": "PdZu-RNCTj4r"
   },
   "source": [
    "Novamente, `k=5` é indicado como o melhor valor. De interesse é também `k=7`. Como sabemos que são 5 classes reais, o valor será ignorado; mas em situações reais, ambas quantidades de classes seriam exploradas."
   ]
  },
  {
   "cell_type": "markdown",
   "metadata": {
    "id": "py6JGPoFTvnu"
   },
   "source": [
    "### Biblioteca clusteval\n",
    "Algumas bibliotecas já automatizam todo o processo de evaluação para encontrar k ideal. Segue abaixo um exemplo - a biblioteca `clusteval`:"
   ]
  },
  {
   "cell_type": "markdown",
   "metadata": {
    "id": "8EYfNqi_T-fT"
   },
   "source": [
    "Como a biblioteca não se encontra nativamente no ambiente Colab, é necessário instalar ela com `pip`:"
   ]
  },
  {
   "cell_type": "code",
   "execution_count": 71,
   "metadata": {
    "colab": {
     "base_uri": "https://localhost:8080/"
    },
    "executionInfo": {
     "elapsed": 3783,
     "status": "ok",
     "timestamp": 1746457282863,
     "user": {
      "displayName": "João Vitor Gomes",
      "userId": "05467674276511904604"
     },
     "user_tz": 0
    },
    "id": "AniK0jpt_Koo",
    "outputId": "4fe75b9c-de54-49d5-8204-5c19929fbd0b"
   },
   "outputs": [
    {
     "name": "stdout",
     "output_type": "stream",
     "text": [
      "Collecting clusteval\n",
      "  Downloading clusteval-2.2.5-py3-none-any.whl.metadata (9.5 kB)\n",
      "Collecting scatterd>=1.3.5 (from clusteval)\n",
      "  Downloading scatterd-1.3.9-py3-none-any.whl.metadata (6.5 kB)\n",
      "Collecting pypickle (from clusteval)\n",
      "  Downloading pypickle-2.0.1-py3-none-any.whl.metadata (7.2 kB)\n",
      "Requirement already satisfied: matplotlib in /mnt/jdpjnfs/ssd/lob 2/LOB1266-PUB/.venv/lib/python3.12/site-packages (from clusteval) (3.10.3)\n",
      "Requirement already satisfied: numpy in /mnt/jdpjnfs/ssd/lob 2/LOB1266-PUB/.venv/lib/python3.12/site-packages (from clusteval) (1.26.4)\n",
      "Requirement already satisfied: pandas in /mnt/jdpjnfs/ssd/lob 2/LOB1266-PUB/.venv/lib/python3.12/site-packages (from clusteval) (2.2.3)\n",
      "Requirement already satisfied: tqdm in /mnt/jdpjnfs/ssd/lob 2/LOB1266-PUB/.venv/lib/python3.12/site-packages (from clusteval) (4.67.1)\n",
      "Requirement already satisfied: seaborn in /mnt/jdpjnfs/ssd/lob 2/LOB1266-PUB/.venv/lib/python3.12/site-packages (from clusteval) (0.13.2)\n",
      "Requirement already satisfied: scikit-learn in /mnt/jdpjnfs/ssd/lob 2/LOB1266-PUB/.venv/lib/python3.12/site-packages (from clusteval) (1.6.1)\n",
      "Collecting colourmap>=1.1.14 (from clusteval)\n",
      "  Downloading colourmap-1.1.21-py3-none-any.whl.metadata (5.5 kB)\n",
      "Collecting datazets>=1.1.0 (from clusteval)\n",
      "  Downloading datazets-1.1.2-py3-none-any.whl.metadata (13 kB)\n",
      "Requirement already satisfied: scipy in /mnt/jdpjnfs/ssd/lob 2/LOB1266-PUB/.venv/lib/python3.12/site-packages (from colourmap>=1.1.14->clusteval) (1.15.3)\n",
      "Requirement already satisfied: requests in /mnt/jdpjnfs/ssd/lob 2/LOB1266-PUB/.venv/lib/python3.12/site-packages (from datazets>=1.1.0->clusteval) (2.32.3)\n",
      "Requirement already satisfied: contourpy>=1.0.1 in /mnt/jdpjnfs/ssd/lob 2/LOB1266-PUB/.venv/lib/python3.12/site-packages (from matplotlib->clusteval) (1.3.2)\n",
      "Requirement already satisfied: cycler>=0.10 in /mnt/jdpjnfs/ssd/lob 2/LOB1266-PUB/.venv/lib/python3.12/site-packages (from matplotlib->clusteval) (0.12.1)\n",
      "Requirement already satisfied: fonttools>=4.22.0 in /mnt/jdpjnfs/ssd/lob 2/LOB1266-PUB/.venv/lib/python3.12/site-packages (from matplotlib->clusteval) (4.58.0)\n",
      "Requirement already satisfied: kiwisolver>=1.3.1 in /mnt/jdpjnfs/ssd/lob 2/LOB1266-PUB/.venv/lib/python3.12/site-packages (from matplotlib->clusteval) (1.4.8)\n",
      "Requirement already satisfied: packaging>=20.0 in /mnt/jdpjnfs/ssd/lob 2/LOB1266-PUB/.venv/lib/python3.12/site-packages (from matplotlib->clusteval) (25.0)\n",
      "Requirement already satisfied: pillow>=8 in /mnt/jdpjnfs/ssd/lob 2/LOB1266-PUB/.venv/lib/python3.12/site-packages (from matplotlib->clusteval) (11.2.1)\n",
      "Requirement already satisfied: pyparsing>=2.3.1 in /mnt/jdpjnfs/ssd/lob 2/LOB1266-PUB/.venv/lib/python3.12/site-packages (from matplotlib->clusteval) (3.2.3)\n",
      "Requirement already satisfied: python-dateutil>=2.7 in /mnt/jdpjnfs/ssd/lob 2/LOB1266-PUB/.venv/lib/python3.12/site-packages (from matplotlib->clusteval) (2.9.0.post0)\n",
      "Requirement already satisfied: six>=1.5 in /mnt/jdpjnfs/ssd/lob 2/LOB1266-PUB/.venv/lib/python3.12/site-packages (from python-dateutil>=2.7->matplotlib->clusteval) (1.17.0)\n",
      "Requirement already satisfied: pytz>=2020.1 in /mnt/jdpjnfs/ssd/lob 2/LOB1266-PUB/.venv/lib/python3.12/site-packages (from pandas->clusteval) (2025.2)\n",
      "Requirement already satisfied: tzdata>=2022.7 in /mnt/jdpjnfs/ssd/lob 2/LOB1266-PUB/.venv/lib/python3.12/site-packages (from pandas->clusteval) (2025.2)\n",
      "Requirement already satisfied: charset-normalizer<4,>=2 in /mnt/jdpjnfs/ssd/lob 2/LOB1266-PUB/.venv/lib/python3.12/site-packages (from requests->datazets>=1.1.0->clusteval) (3.4.2)\n",
      "Requirement already satisfied: idna<4,>=2.5 in /mnt/jdpjnfs/ssd/lob 2/LOB1266-PUB/.venv/lib/python3.12/site-packages (from requests->datazets>=1.1.0->clusteval) (3.10)\n",
      "Requirement already satisfied: urllib3<3,>=1.21.1 in /mnt/jdpjnfs/ssd/lob 2/LOB1266-PUB/.venv/lib/python3.12/site-packages (from requests->datazets>=1.1.0->clusteval) (2.4.0)\n",
      "Requirement already satisfied: certifi>=2017.4.17 in /mnt/jdpjnfs/ssd/lob 2/LOB1266-PUB/.venv/lib/python3.12/site-packages (from requests->datazets>=1.1.0->clusteval) (2025.4.26)\n",
      "Requirement already satisfied: joblib>=1.2.0 in /mnt/jdpjnfs/ssd/lob 2/LOB1266-PUB/.venv/lib/python3.12/site-packages (from scikit-learn->clusteval) (1.5.0)\n",
      "Requirement already satisfied: threadpoolctl>=3.1.0 in /mnt/jdpjnfs/ssd/lob 2/LOB1266-PUB/.venv/lib/python3.12/site-packages (from scikit-learn->clusteval) (3.6.0)\n",
      "Downloading clusteval-2.2.5-py3-none-any.whl (44 kB)\n",
      "Downloading colourmap-1.1.21-py3-none-any.whl (10 kB)\n",
      "Downloading datazets-1.1.2-py3-none-any.whl (15 kB)\n",
      "Downloading scatterd-1.3.9-py3-none-any.whl (13 kB)\n",
      "Downloading pypickle-2.0.1-py3-none-any.whl (13 kB)\n",
      "Installing collected packages: pypickle, datazets, colourmap, scatterd, clusteval\n",
      "\u001b[2K   \u001b[38;2;114;156;31m━━━━━━━━━━━━━━━━━━━━━━━━━━━━━━━━━━━━━━━━\u001b[0m \u001b[32m5/5\u001b[0m [clusteval]\n",
      "\u001b[1A\u001b[2KSuccessfully installed clusteval-2.2.5 colourmap-1.1.21 datazets-1.1.2 pypickle-2.0.1 scatterd-1.3.9\n"
     ]
    }
   ],
   "source": [
    "try:\n",
    "    import clusteval\n",
    "except:\n",
    "    !pip install clusteval"
   ]
  },
  {
   "cell_type": "markdown",
   "metadata": {
    "id": "km4UnNsAUFIU"
   },
   "source": [
    "Então, importa-se da sua função principal:"
   ]
  },
  {
   "cell_type": "code",
   "execution_count": 72,
   "metadata": {
    "executionInfo": {
     "elapsed": 200,
     "status": "ok",
     "timestamp": 1746457664171,
     "user": {
      "displayName": "João Vitor Gomes",
      "userId": "05467674276511904604"
     },
     "user_tz": 0
    },
    "id": "DDzjgFAfBBEu"
   },
   "outputs": [],
   "source": [
    "from clusteval import clusteval"
   ]
  },
  {
   "cell_type": "markdown",
   "metadata": {
    "id": "TouZJsREUh1E"
   },
   "source": [
    "Então, salva-se esta função a uma variável, e nela se aplica `.fit(dados)` - assim como modelos do `scikit-learn`.\n",
    "\n",
    "Os principais argumentos são:\n",
    "\n",
    "\n",
    "\n",
    "\n",
    "\n",
    "- `cluster` : que pode ser \"kmeans\", \"hdbscan\", \"dbscan\", \"agglomerative\", e define o modelo que será usado para achar os clusters.\n",
    "- `evaluate` : que será o método usado para achar o k ideal. \"derivative\" corresponde ao método do cotovelo, e \"silhouette\" ao `silhouette_score`\n",
    "- `metric` : a métrica de avaliação que será passado para `silhouette_score`.\n",
    "Estes argumentos também podem ser omitidos para ser utilizado a configuração padrão:\n",
    "\n",
    "\n",
    "```\n",
    "clusteval(cluster = 'agglomerative',\n",
    "          evaluate = 'silhouette',\n",
    "          metric = 'euclidean')\n",
    "```"
   ]
  },
  {
   "cell_type": "code",
   "execution_count": 73,
   "metadata": {
    "colab": {
     "base_uri": "https://localhost:8080/",
     "height": 768
    },
    "executionInfo": {
     "elapsed": 53868,
     "status": "ok",
     "timestamp": 1746457719189,
     "user": {
      "displayName": "João Vitor Gomes",
      "userId": "05467674276511904604"
     },
     "user_tz": 0
    },
    "id": "UbB0SXjVBCTX",
    "outputId": "84637ad9-592b-45ef-8ef3-378aa922523d"
   },
   "outputs": [
    {
     "name": "stderr",
     "output_type": "stream",
     "text": [
      "[clusteval] >INFO: 100%|████████████████████████████████████████████████████████████████████████████████████████████████████████████████████████████████████████████████████████████████████████████████████| 23/23 [00:25<00:00,  1.10s/it]\n"
     ]
    },
    {
     "data": {
      "image/png": "[encoded data removed]",
      "text/plain": [
       "<Figure size 1500x800 with 1 Axes>"
      ]
     },
     "metadata": {},
     "output_type": "display_data"
    },
    {
     "data": {
      "text/plain": [
       "(<Figure size 1500x800 with 1 Axes>,\n",
       " <Axes: xlabel='Nr. clusters', ylabel='Score'>)"
      ]
     },
     "execution_count": 73,
     "metadata": {},
     "output_type": "execute_result"
    }
   ],
   "source": [
    "ce = clusteval(cluster = 'kmeans',\n",
    "               evaluate = 'silhouette',\n",
    "               metric='cosine')\n",
    "ce.fit(df_copia)\n",
    "ce.plot() # Faz o gráfico"
   ]
  },
  {
   "cell_type": "markdown",
   "metadata": {
    "id": "rynW1JN4ViG9"
   },
   "source": [
    "O método de escolha de k também são afetados pela dimensionalidade. Então, espera-se diferentes resultados caso as dimensões foram reduzidas. Segue um exemplo com a `df_pca_80_varianca`:"
   ]
  },
  {
   "cell_type": "code",
   "execution_count": 75,
   "metadata": {
    "colab": {
     "base_uri": "https://localhost:8080/",
     "height": 768
    },
    "executionInfo": {
     "elapsed": 1050,
     "status": "ok",
     "timestamp": 1746457750473,
     "user": {
      "displayName": "João Vitor Gomes",
      "userId": "05467674276511904604"
     },
     "user_tz": 0
    },
    "id": "CzYInYx6V84i",
    "outputId": "fbd20a48-76ca-422a-a321-46b32bdad8c0"
   },
   "outputs": [
    {
     "data": {
      "image/png": "[encoded data removed]",
      "text/plain": [
       "<Figure size 1500x800 with 1 Axes>"
      ]
     },
     "metadata": {},
     "output_type": "display_data"
    },
    {
     "data": {
      "text/plain": [
       "(<Figure size 1500x800 with 1 Axes>,\n",
       " <Axes: title={'center': 'Derivative (Elbow method)'}, xlabel='Nr. clusters', ylabel='Score'>)"
      ]
     },
     "execution_count": 75,
     "metadata": {},
     "output_type": "execute_result"
    }
   ],
   "source": [
    "ce = clusteval(evaluate = 'derivative') # Usa do método do cotovelo\n",
    "ce.fit(df_pca_80_varianca)\n",
    "ce.plot()"
   ]
  },
  {
   "cell_type": "markdown",
   "metadata": {
    "id": "PEFdqutlws_Y"
   },
   "source": [
    "# Exercícios"
   ]
  },
  {
   "cell_type": "markdown",
   "metadata": {
    "id": "mAHiBf7s74BO"
   },
   "source": [
    "Crie uma figura com 3 gráficos\n",
    "- Gráfico reduzido por TSNE, com cores de `true_labels`, e centróides em vermelho.\n",
    "- PCA com rótulos de um modelo treinado com PCA (`n_componetns=2`) e centróides\n",
    "- Gráfico com redução por TSNE, com rótulos e centróides de um modelo treinado por PCA"
   ]
  },
  {
   "cell_type": "markdown",
   "metadata": {
    "id": "3Mw8Uzl9hBkq"
   },
   "source": [
    "Seguem as variáveis já declaradas:\n",
    "\n",
    "\n",
    "```\n",
    "true_colors\n",
    "scaler\n",
    "df_copia\n",
    "```\n",
    "\n"
   ]
  },
  {
   "cell_type": "code",
   "execution_count": null,
   "metadata": {},
   "outputs": [],
   "source": []
  }
 ],
 "metadata": {
  "colab": {
   "authorship_tag": "ABX9TyPJI+LzP+cREnWr0N6MZnG8",
   "provenance": [],
   "toc_visible": true
  },
  "kernelspec": {
   "display_name": "Python 3 (ipykernel)",
   "language": "python",
   "name": "python3"
  },
  "language_info": {
   "codemirror_mode": {
    "name": "ipython",
    "version": 3
   },
   "file_extension": ".py",
   "mimetype": "text/x-python",
   "name": "python",
   "nbconvert_exporter": "python",
   "pygments_lexer": "ipython3",
   "version": "3.12.8"
  }
 },
 "nbformat": 4,
 "nbformat_minor": 4
}
